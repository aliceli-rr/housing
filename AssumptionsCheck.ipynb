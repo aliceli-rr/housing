{
 "cells": [
  {
   "cell_type": "code",
   "execution_count": 1,
   "metadata": {
    "_uuid": "5e53e0ec86e7425acbe872f6737774fdb4954ede"
   },
   "outputs": [],
   "source": [
    "import pandas_profiling"
   ]
  },
  {
   "cell_type": "code",
   "execution_count": 2,
   "metadata": {
    "_uuid": "4dff6a390fcd5a8ae430014b2ec50f6edeea33b3"
   },
   "outputs": [],
   "source": [
    "import numpy as np\n",
    "import pandas as pd\n",
    "import matplotlib.pyplot as plt\n",
    "import seaborn as sns"
   ]
  },
  {
   "cell_type": "code",
   "execution_count": 3,
   "metadata": {
    "_uuid": "90e01d05a7daffda62621f06f7203f39e0140553"
   },
   "outputs": [],
   "source": [
    "%matplotlib inline"
   ]
  },
  {
   "cell_type": "code",
   "execution_count": 4,
   "metadata": {
    "_uuid": "eb6020c52aea724eb193ad076d8fc745be1e4c8f"
   },
   "outputs": [],
   "source": [
    "import warnings\n",
    "warnings.filterwarnings('ignore')"
   ]
  },
  {
   "cell_type": "code",
   "execution_count": 17,
   "metadata": {
    "_uuid": "eec6994e8ff25dbdebdddc09f9c108e37cd3f269"
   },
   "outputs": [],
   "source": [
    "housing_data = pd.read_csv(\"C:\\\\Users\\\\my\\\\Desktop\\\\DC_Properties.csv\")"
   ]
  },
  {
   "cell_type": "code",
   "execution_count": 18,
   "metadata": {
    "_uuid": "f7003fa47f6bc8e35c0d510641bbbe3f5e37854d"
   },
   "outputs": [
    {
     "data": {
      "text/html": [
       "<div>\n",
       "<style scoped>\n",
       "    .dataframe tbody tr th:only-of-type {\n",
       "        vertical-align: middle;\n",
       "    }\n",
       "\n",
       "    .dataframe tbody tr th {\n",
       "        vertical-align: top;\n",
       "    }\n",
       "\n",
       "    .dataframe thead th {\n",
       "        text-align: right;\n",
       "    }\n",
       "</style>\n",
       "<table border=\"1\" class=\"dataframe\">\n",
       "  <thead>\n",
       "    <tr style=\"text-align: right;\">\n",
       "      <th></th>\n",
       "      <th>Unnamed: 0</th>\n",
       "      <th>BATHRM</th>\n",
       "      <th>HF_BATHRM</th>\n",
       "      <th>HEAT</th>\n",
       "      <th>AC</th>\n",
       "      <th>NUM_UNITS</th>\n",
       "      <th>ROOMS</th>\n",
       "      <th>BEDRM</th>\n",
       "      <th>AYB</th>\n",
       "      <th>YR_RMDL</th>\n",
       "      <th>...</th>\n",
       "      <th>LONGITUDE</th>\n",
       "      <th>ASSESSMENT_NBHD</th>\n",
       "      <th>ASSESSMENT_SUBNBHD</th>\n",
       "      <th>CENSUS_TRACT</th>\n",
       "      <th>CENSUS_BLOCK</th>\n",
       "      <th>WARD</th>\n",
       "      <th>SQUARE</th>\n",
       "      <th>X</th>\n",
       "      <th>Y</th>\n",
       "      <th>QUADRANT</th>\n",
       "    </tr>\n",
       "  </thead>\n",
       "  <tbody>\n",
       "    <tr>\n",
       "      <th>0</th>\n",
       "      <td>0</td>\n",
       "      <td>4</td>\n",
       "      <td>0</td>\n",
       "      <td>Warm Cool</td>\n",
       "      <td>Y</td>\n",
       "      <td>2.0</td>\n",
       "      <td>8</td>\n",
       "      <td>4</td>\n",
       "      <td>1910.0</td>\n",
       "      <td>1988.0</td>\n",
       "      <td>...</td>\n",
       "      <td>-77.040832</td>\n",
       "      <td>Old City 2</td>\n",
       "      <td>040 D Old City 2</td>\n",
       "      <td>4201.0</td>\n",
       "      <td>004201 2006</td>\n",
       "      <td>Ward 2</td>\n",
       "      <td>152</td>\n",
       "      <td>-77.040429</td>\n",
       "      <td>38.914881</td>\n",
       "      <td>NW</td>\n",
       "    </tr>\n",
       "    <tr>\n",
       "      <th>1</th>\n",
       "      <td>1</td>\n",
       "      <td>3</td>\n",
       "      <td>1</td>\n",
       "      <td>Warm Cool</td>\n",
       "      <td>Y</td>\n",
       "      <td>2.0</td>\n",
       "      <td>11</td>\n",
       "      <td>5</td>\n",
       "      <td>1898.0</td>\n",
       "      <td>2007.0</td>\n",
       "      <td>...</td>\n",
       "      <td>-77.040764</td>\n",
       "      <td>Old City 2</td>\n",
       "      <td>040 D Old City 2</td>\n",
       "      <td>4201.0</td>\n",
       "      <td>004201 2006</td>\n",
       "      <td>Ward 2</td>\n",
       "      <td>152</td>\n",
       "      <td>-77.040429</td>\n",
       "      <td>38.914881</td>\n",
       "      <td>NW</td>\n",
       "    </tr>\n",
       "    <tr>\n",
       "      <th>2</th>\n",
       "      <td>2</td>\n",
       "      <td>3</td>\n",
       "      <td>1</td>\n",
       "      <td>Hot Water Rad</td>\n",
       "      <td>Y</td>\n",
       "      <td>2.0</td>\n",
       "      <td>9</td>\n",
       "      <td>5</td>\n",
       "      <td>1910.0</td>\n",
       "      <td>2009.0</td>\n",
       "      <td>...</td>\n",
       "      <td>-77.040678</td>\n",
       "      <td>Old City 2</td>\n",
       "      <td>040 D Old City 2</td>\n",
       "      <td>4201.0</td>\n",
       "      <td>004201 2006</td>\n",
       "      <td>Ward 2</td>\n",
       "      <td>152</td>\n",
       "      <td>-77.040429</td>\n",
       "      <td>38.914881</td>\n",
       "      <td>NW</td>\n",
       "    </tr>\n",
       "    <tr>\n",
       "      <th>3</th>\n",
       "      <td>3</td>\n",
       "      <td>3</td>\n",
       "      <td>1</td>\n",
       "      <td>Hot Water Rad</td>\n",
       "      <td>Y</td>\n",
       "      <td>2.0</td>\n",
       "      <td>8</td>\n",
       "      <td>5</td>\n",
       "      <td>1900.0</td>\n",
       "      <td>2003.0</td>\n",
       "      <td>...</td>\n",
       "      <td>-77.040629</td>\n",
       "      <td>Old City 2</td>\n",
       "      <td>040 D Old City 2</td>\n",
       "      <td>4201.0</td>\n",
       "      <td>004201 2006</td>\n",
       "      <td>Ward 2</td>\n",
       "      <td>152</td>\n",
       "      <td>-77.040429</td>\n",
       "      <td>38.914881</td>\n",
       "      <td>NW</td>\n",
       "    </tr>\n",
       "    <tr>\n",
       "      <th>4</th>\n",
       "      <td>4</td>\n",
       "      <td>2</td>\n",
       "      <td>1</td>\n",
       "      <td>Warm Cool</td>\n",
       "      <td>Y</td>\n",
       "      <td>1.0</td>\n",
       "      <td>11</td>\n",
       "      <td>3</td>\n",
       "      <td>1913.0</td>\n",
       "      <td>2012.0</td>\n",
       "      <td>...</td>\n",
       "      <td>-77.039361</td>\n",
       "      <td>Old City 2</td>\n",
       "      <td>040 D Old City 2</td>\n",
       "      <td>4201.0</td>\n",
       "      <td>004201 2006</td>\n",
       "      <td>Ward 2</td>\n",
       "      <td>152</td>\n",
       "      <td>-77.040429</td>\n",
       "      <td>38.914881</td>\n",
       "      <td>NW</td>\n",
       "    </tr>\n",
       "  </tbody>\n",
       "</table>\n",
       "<p>5 rows × 49 columns</p>\n",
       "</div>"
      ],
      "text/plain": [
       "   Unnamed: 0  BATHRM  HF_BATHRM           HEAT AC  NUM_UNITS  ROOMS  BEDRM  \\\n",
       "0           0       4          0      Warm Cool  Y        2.0      8      4   \n",
       "1           1       3          1      Warm Cool  Y        2.0     11      5   \n",
       "2           2       3          1  Hot Water Rad  Y        2.0      9      5   \n",
       "3           3       3          1  Hot Water Rad  Y        2.0      8      5   \n",
       "4           4       2          1      Warm Cool  Y        1.0     11      3   \n",
       "\n",
       "      AYB  YR_RMDL   ...     LONGITUDE  ASSESSMENT_NBHD ASSESSMENT_SUBNBHD  \\\n",
       "0  1910.0   1988.0   ...    -77.040832       Old City 2   040 D Old City 2   \n",
       "1  1898.0   2007.0   ...    -77.040764       Old City 2   040 D Old City 2   \n",
       "2  1910.0   2009.0   ...    -77.040678       Old City 2   040 D Old City 2   \n",
       "3  1900.0   2003.0   ...    -77.040629       Old City 2   040 D Old City 2   \n",
       "4  1913.0   2012.0   ...    -77.039361       Old City 2   040 D Old City 2   \n",
       "\n",
       "   CENSUS_TRACT CENSUS_BLOCK    WARD  SQUARE          X          Y QUADRANT  \n",
       "0        4201.0  004201 2006  Ward 2     152 -77.040429  38.914881       NW  \n",
       "1        4201.0  004201 2006  Ward 2     152 -77.040429  38.914881       NW  \n",
       "2        4201.0  004201 2006  Ward 2     152 -77.040429  38.914881       NW  \n",
       "3        4201.0  004201 2006  Ward 2     152 -77.040429  38.914881       NW  \n",
       "4        4201.0  004201 2006  Ward 2     152 -77.040429  38.914881       NW  \n",
       "\n",
       "[5 rows x 49 columns]"
      ]
     },
     "execution_count": 18,
     "metadata": {},
     "output_type": "execute_result"
    }
   ],
   "source": [
    "housing_data.head()"
   ]
  },
  {
   "cell_type": "code",
   "execution_count": null,
   "metadata": {
    "_uuid": "0f00b56b078c8e16c4d59a4e9630116df7f9ef68"
   },
   "outputs": [],
   "source": [
    "#train_dataset = (train_dataset - train_dataset.mean()) / (train_dataset.max() - train_dataset.min())"
   ]
  },
  {
   "cell_type": "code",
   "execution_count": null,
   "metadata": {
    "_uuid": "f1a03131bb2fba9efe1979a041edade3588ca67e"
   },
   "outputs": [],
   "source": [
    "#housing_data.head()"
   ]
  },
  {
   "cell_type": "code",
   "execution_count": 19,
   "metadata": {
    "_uuid": "a834f644fb5089e3677b49a7fff3a1ebe6cc7071"
   },
   "outputs": [
    {
     "data": {
      "text/plain": [
       "Index(['Unnamed: 0', 'BATHRM', 'HF_BATHRM', 'HEAT', 'AC', 'NUM_UNITS', 'ROOMS',\n",
       "       'BEDRM', 'AYB', 'YR_RMDL', 'EYB', 'STORIES', 'SALEDATE', 'PRICE',\n",
       "       'QUALIFIED', 'SALE_NUM', 'GBA', 'BLDG_NUM', 'STYLE', 'STRUCT', 'GRADE',\n",
       "       'CNDTN', 'EXTWALL', 'ROOF', 'INTWALL', 'KITCHENS', 'FIREPLACES',\n",
       "       'USECODE', 'LANDAREA', 'GIS_LAST_MOD_DTTM', 'SOURCE', 'CMPLX_NUM',\n",
       "       'LIVING_GBA', 'FULLADDRESS', 'CITY', 'STATE', 'ZIPCODE', 'NATIONALGRID',\n",
       "       'LATITUDE', 'LONGITUDE', 'ASSESSMENT_NBHD', 'ASSESSMENT_SUBNBHD',\n",
       "       'CENSUS_TRACT', 'CENSUS_BLOCK', 'WARD', 'SQUARE', 'X', 'Y', 'QUADRANT'],\n",
       "      dtype='object')"
      ]
     },
     "execution_count": 19,
     "metadata": {},
     "output_type": "execute_result"
    }
   ],
   "source": [
    "housing_data.columns"
   ]
  },
  {
   "cell_type": "code",
   "execution_count": 20,
   "metadata": {
    "_uuid": "c2c0b614806cb206c0a4333043e76cc8c170187e"
   },
   "outputs": [],
   "source": [
    "# Creating copy of the dataset and making changes to this copy\n",
    "\n",
    "housing_data_copy = housing_data.copy()"
   ]
  },
  {
   "cell_type": "markdown",
   "metadata": {
    "_uuid": "6ff4273a082d9845dc8d5880a577495a7cbb7779"
   },
   "source": [
    "# Generating profiling report"
   ]
  },
  {
   "cell_type": "code",
   "execution_count": null,
   "metadata": {
    "_uuid": "4b3baf9dd19edda0ec106faf9a86cd116ac76366"
   },
   "outputs": [],
   "source": [
    "profile = pandas_profiling.ProfileReport(housing_data)\n",
    "\n",
    "#profile.to_file(outputfile =\"C:\\\\Users\\\\keerti.chouhan\\\\Desktop\\\\housing.html\")\n",
    "\n",
    "#About the data from profiling report\n",
    "\n",
    "#Number of variables\t48\n",
    "#Number of observations\t158957\n",
    "#Total Missing (%)\t15.7%\n",
    "\n",
    "# Variable types :\n",
    "\n",
    "#Numeric\t22\n",
    "#Categorical\t23\n",
    "#Rejected\t3 (X,Y, Num_units shall be rejected as they are highly correlated with longitude,latitude and kitchen respectevely)\n"
   ]
  },
  {
   "cell_type": "markdown",
   "metadata": {
    "_uuid": "cc9350485947a41333a29f80a297cec656ea7ca7"
   },
   "source": [
    "# Dropping irrelevant columns "
   ]
  },
  {
   "cell_type": "code",
   "execution_count": 21,
   "metadata": {
    "_uuid": "0f25e3c2e185560e0e695ab3fb7b11b46655ab47"
   },
   "outputs": [],
   "source": [
    "housing_data_copy = housing_data_copy.drop(\"Unnamed: 0\", axis = 1)"
   ]
  },
  {
   "cell_type": "code",
   "execution_count": 22,
   "metadata": {
    "_uuid": "7fc1b6771ff59486ba55881c2233f9e7b15a2b32"
   },
   "outputs": [],
   "source": [
    "#Removing unwanted columns\n",
    "\n",
    "housing_data_copy = housing_data_copy.drop([\"X\",\"Y\",\"NUM_UNITS\",\"CITY\",\"STATE\"], axis = 1)\n"
   ]
  },
  {
   "cell_type": "code",
   "execution_count": 23,
   "metadata": {
    "_uuid": "ed7e40bbe7fcbd794540079cad9128170e36ba3a"
   },
   "outputs": [],
   "source": [
    "#droping stories as stories and style are giving similar information\n",
    "\n",
    "housing_data_copy = housing_data_copy.drop([\"STORIES\"], axis = 1)"
   ]
  },
  {
   "cell_type": "code",
   "execution_count": 24,
   "metadata": {
    "_uuid": "961a4d0f34fb93290b25dcf5366e4a7f42dcc3fd"
   },
   "outputs": [],
   "source": [
    "# GBA And Living gba are both gross building area in square feet\n",
    "# As the pattern shows, gba values which are missing are present in living gba and vice versa\n",
    "# So copying and deleting one of the column \n",
    "\n",
    "#housing_data_copy.loc[housing_data_copy.GBA.isnull(),]\n",
    "housing_data_copy.loc[106696:158956,\"GBA\"] = housing_data_copy.loc[106696:158956,\"LIVING_GBA\"]"
   ]
  },
  {
   "cell_type": "code",
   "execution_count": 25,
   "metadata": {
    "_uuid": "78dfaad33f625d91839ed91011a6662523bdb502"
   },
   "outputs": [],
   "source": [
    "#Dropping Living gba \n",
    "housing_data_copy = housing_data_copy.drop(\"LIVING_GBA\", axis = 1)\n",
    "\n",
    "#Dropping complex no. as around 68% missing values are there\n",
    "\n",
    "housing_data_copy = housing_data_copy.drop(\"CMPLX_NUM\", axis = 1)\n"
   ]
  },
  {
   "cell_type": "code",
   "execution_count": 26,
   "metadata": {
    "_uuid": "9726444526c05aba2d401e03967ba31303cd3228"
   },
   "outputs": [],
   "source": [
    "#Dropping irrelevant variables like census block, assessment subneighborhood, national grid and full address\n",
    "\n",
    "# Reason: Full address has high cardinality, i.e values are distinct, futher we have latitude and longitude information which is good to use\n",
    "# National grid : we have latitude and longitude information which is good to use\n",
    "# Census block doesn't make any sense\n",
    "# assessment subneighborhood: has high cardinality\n",
    "\n",
    "\n",
    "housing_data_copy = housing_data_copy.drop([\"ASSESSMENT_SUBNBHD\",\"CENSUS_BLOCK\",\"FULLADDRESS\",\"NATIONALGRID\"], axis = 1)\n"
   ]
  },
  {
   "cell_type": "code",
   "execution_count": 27,
   "metadata": {
    "_uuid": "37b9b592f471c471f7544337f5c53d5783b300b1"
   },
   "outputs": [],
   "source": [
    "#Dropping year of re model as around 50% of the values are missing\n",
    "\n",
    "housing_data_copy = housing_data_copy.drop(\"YR_RMDL\", axis = 1)"
   ]
  },
  {
   "cell_type": "code",
   "execution_count": 28,
   "metadata": {
    "_uuid": "33ceaef128fdf654b6917049e5806d8c12d2754f"
   },
   "outputs": [],
   "source": [
    "housing_data_copy.index = housing_data_copy.index.rename('Index')"
   ]
  },
  {
   "cell_type": "code",
   "execution_count": 29,
   "metadata": {
    "_uuid": "6bd42cf22c1f77651da172f9eb60942c744bb38b"
   },
   "outputs": [],
   "source": [
    "#high cardinality\n",
    "housing_data_copy = housing_data_copy.drop(\"GIS_LAST_MOD_DTTM\", axis = 1)"
   ]
  },
  {
   "cell_type": "code",
   "execution_count": 30,
   "metadata": {
    "_uuid": "e0ba189d1b24c41187e086c1ad7b37f87488510d"
   },
   "outputs": [
    {
     "data": {
      "text/html": [
       "<div>\n",
       "<style scoped>\n",
       "    .dataframe tbody tr th:only-of-type {\n",
       "        vertical-align: middle;\n",
       "    }\n",
       "\n",
       "    .dataframe tbody tr th {\n",
       "        vertical-align: top;\n",
       "    }\n",
       "\n",
       "    .dataframe thead th {\n",
       "        text-align: right;\n",
       "    }\n",
       "</style>\n",
       "<table border=\"1\" class=\"dataframe\">\n",
       "  <thead>\n",
       "    <tr style=\"text-align: right;\">\n",
       "      <th></th>\n",
       "      <th>BATHRM</th>\n",
       "      <th>HF_BATHRM</th>\n",
       "      <th>HEAT</th>\n",
       "      <th>AC</th>\n",
       "      <th>ROOMS</th>\n",
       "      <th>BEDRM</th>\n",
       "      <th>AYB</th>\n",
       "      <th>EYB</th>\n",
       "      <th>SALEDATE</th>\n",
       "      <th>PRICE</th>\n",
       "      <th>...</th>\n",
       "      <th>LANDAREA</th>\n",
       "      <th>SOURCE</th>\n",
       "      <th>ZIPCODE</th>\n",
       "      <th>LATITUDE</th>\n",
       "      <th>LONGITUDE</th>\n",
       "      <th>ASSESSMENT_NBHD</th>\n",
       "      <th>CENSUS_TRACT</th>\n",
       "      <th>WARD</th>\n",
       "      <th>SQUARE</th>\n",
       "      <th>QUADRANT</th>\n",
       "    </tr>\n",
       "    <tr>\n",
       "      <th>Index</th>\n",
       "      <th></th>\n",
       "      <th></th>\n",
       "      <th></th>\n",
       "      <th></th>\n",
       "      <th></th>\n",
       "      <th></th>\n",
       "      <th></th>\n",
       "      <th></th>\n",
       "      <th></th>\n",
       "      <th></th>\n",
       "      <th></th>\n",
       "      <th></th>\n",
       "      <th></th>\n",
       "      <th></th>\n",
       "      <th></th>\n",
       "      <th></th>\n",
       "      <th></th>\n",
       "      <th></th>\n",
       "      <th></th>\n",
       "      <th></th>\n",
       "      <th></th>\n",
       "    </tr>\n",
       "  </thead>\n",
       "  <tbody>\n",
       "    <tr>\n",
       "      <th>0</th>\n",
       "      <td>4</td>\n",
       "      <td>0</td>\n",
       "      <td>Warm Cool</td>\n",
       "      <td>Y</td>\n",
       "      <td>8</td>\n",
       "      <td>4</td>\n",
       "      <td>1910.0</td>\n",
       "      <td>1972</td>\n",
       "      <td>2003-11-25 00:00:00</td>\n",
       "      <td>1095000.0</td>\n",
       "      <td>...</td>\n",
       "      <td>1680</td>\n",
       "      <td>Residential</td>\n",
       "      <td>20009.0</td>\n",
       "      <td>38.914680</td>\n",
       "      <td>-77.040832</td>\n",
       "      <td>Old City 2</td>\n",
       "      <td>4201.0</td>\n",
       "      <td>Ward 2</td>\n",
       "      <td>152</td>\n",
       "      <td>NW</td>\n",
       "    </tr>\n",
       "    <tr>\n",
       "      <th>1</th>\n",
       "      <td>3</td>\n",
       "      <td>1</td>\n",
       "      <td>Warm Cool</td>\n",
       "      <td>Y</td>\n",
       "      <td>11</td>\n",
       "      <td>5</td>\n",
       "      <td>1898.0</td>\n",
       "      <td>1972</td>\n",
       "      <td>2000-08-17 00:00:00</td>\n",
       "      <td>NaN</td>\n",
       "      <td>...</td>\n",
       "      <td>1680</td>\n",
       "      <td>Residential</td>\n",
       "      <td>20009.0</td>\n",
       "      <td>38.914683</td>\n",
       "      <td>-77.040764</td>\n",
       "      <td>Old City 2</td>\n",
       "      <td>4201.0</td>\n",
       "      <td>Ward 2</td>\n",
       "      <td>152</td>\n",
       "      <td>NW</td>\n",
       "    </tr>\n",
       "    <tr>\n",
       "      <th>2</th>\n",
       "      <td>3</td>\n",
       "      <td>1</td>\n",
       "      <td>Hot Water Rad</td>\n",
       "      <td>Y</td>\n",
       "      <td>9</td>\n",
       "      <td>5</td>\n",
       "      <td>1910.0</td>\n",
       "      <td>1984</td>\n",
       "      <td>2016-06-21 00:00:00</td>\n",
       "      <td>2100000.0</td>\n",
       "      <td>...</td>\n",
       "      <td>1680</td>\n",
       "      <td>Residential</td>\n",
       "      <td>20009.0</td>\n",
       "      <td>38.914684</td>\n",
       "      <td>-77.040678</td>\n",
       "      <td>Old City 2</td>\n",
       "      <td>4201.0</td>\n",
       "      <td>Ward 2</td>\n",
       "      <td>152</td>\n",
       "      <td>NW</td>\n",
       "    </tr>\n",
       "    <tr>\n",
       "      <th>3</th>\n",
       "      <td>3</td>\n",
       "      <td>1</td>\n",
       "      <td>Hot Water Rad</td>\n",
       "      <td>Y</td>\n",
       "      <td>8</td>\n",
       "      <td>5</td>\n",
       "      <td>1900.0</td>\n",
       "      <td>1984</td>\n",
       "      <td>2006-07-12 00:00:00</td>\n",
       "      <td>1602000.0</td>\n",
       "      <td>...</td>\n",
       "      <td>1680</td>\n",
       "      <td>Residential</td>\n",
       "      <td>20009.0</td>\n",
       "      <td>38.914683</td>\n",
       "      <td>-77.040629</td>\n",
       "      <td>Old City 2</td>\n",
       "      <td>4201.0</td>\n",
       "      <td>Ward 2</td>\n",
       "      <td>152</td>\n",
       "      <td>NW</td>\n",
       "    </tr>\n",
       "    <tr>\n",
       "      <th>4</th>\n",
       "      <td>2</td>\n",
       "      <td>1</td>\n",
       "      <td>Warm Cool</td>\n",
       "      <td>Y</td>\n",
       "      <td>11</td>\n",
       "      <td>3</td>\n",
       "      <td>1913.0</td>\n",
       "      <td>1985</td>\n",
       "      <td>NaN</td>\n",
       "      <td>NaN</td>\n",
       "      <td>...</td>\n",
       "      <td>2032</td>\n",
       "      <td>Residential</td>\n",
       "      <td>20009.0</td>\n",
       "      <td>38.914383</td>\n",
       "      <td>-77.039361</td>\n",
       "      <td>Old City 2</td>\n",
       "      <td>4201.0</td>\n",
       "      <td>Ward 2</td>\n",
       "      <td>152</td>\n",
       "      <td>NW</td>\n",
       "    </tr>\n",
       "  </tbody>\n",
       "</table>\n",
       "<p>5 rows × 34 columns</p>\n",
       "</div>"
      ],
      "text/plain": [
       "       BATHRM  HF_BATHRM           HEAT AC  ROOMS  BEDRM     AYB   EYB  \\\n",
       "Index                                                                    \n",
       "0           4          0      Warm Cool  Y      8      4  1910.0  1972   \n",
       "1           3          1      Warm Cool  Y     11      5  1898.0  1972   \n",
       "2           3          1  Hot Water Rad  Y      9      5  1910.0  1984   \n",
       "3           3          1  Hot Water Rad  Y      8      5  1900.0  1984   \n",
       "4           2          1      Warm Cool  Y     11      3  1913.0  1985   \n",
       "\n",
       "                  SALEDATE      PRICE   ...    LANDAREA       SOURCE  ZIPCODE  \\\n",
       "Index                                   ...                                     \n",
       "0      2003-11-25 00:00:00  1095000.0   ...        1680  Residential  20009.0   \n",
       "1      2000-08-17 00:00:00        NaN   ...        1680  Residential  20009.0   \n",
       "2      2016-06-21 00:00:00  2100000.0   ...        1680  Residential  20009.0   \n",
       "3      2006-07-12 00:00:00  1602000.0   ...        1680  Residential  20009.0   \n",
       "4                      NaN        NaN   ...        2032  Residential  20009.0   \n",
       "\n",
       "        LATITUDE  LONGITUDE ASSESSMENT_NBHD CENSUS_TRACT    WARD SQUARE  \\\n",
       "Index                                                                     \n",
       "0      38.914680 -77.040832      Old City 2       4201.0  Ward 2    152   \n",
       "1      38.914683 -77.040764      Old City 2       4201.0  Ward 2    152   \n",
       "2      38.914684 -77.040678      Old City 2       4201.0  Ward 2    152   \n",
       "3      38.914683 -77.040629      Old City 2       4201.0  Ward 2    152   \n",
       "4      38.914383 -77.039361      Old City 2       4201.0  Ward 2    152   \n",
       "\n",
       "      QUADRANT  \n",
       "Index           \n",
       "0           NW  \n",
       "1           NW  \n",
       "2           NW  \n",
       "3           NW  \n",
       "4           NW  \n",
       "\n",
       "[5 rows x 34 columns]"
      ]
     },
     "execution_count": 30,
     "metadata": {},
     "output_type": "execute_result"
    }
   ],
   "source": [
    "housing_data_copy.head(5)\n",
    "\n",
    "#35 columns are selected"
   ]
  },
  {
   "cell_type": "code",
   "execution_count": 31,
   "metadata": {
    "_uuid": "1eecf46542a382bc5d45b9ce8827ab877741a5dd"
   },
   "outputs": [
    {
     "data": {
      "text/plain": [
       "BATHRM               int64\n",
       "HF_BATHRM            int64\n",
       "HEAT                object\n",
       "AC                  object\n",
       "ROOMS                int64\n",
       "BEDRM                int64\n",
       "AYB                float64\n",
       "EYB                  int64\n",
       "SALEDATE            object\n",
       "PRICE              float64\n",
       "QUALIFIED           object\n",
       "SALE_NUM             int64\n",
       "GBA                float64\n",
       "BLDG_NUM             int64\n",
       "STYLE               object\n",
       "STRUCT              object\n",
       "GRADE               object\n",
       "CNDTN               object\n",
       "EXTWALL             object\n",
       "ROOF                object\n",
       "INTWALL             object\n",
       "KITCHENS           float64\n",
       "FIREPLACES           int64\n",
       "USECODE              int64\n",
       "LANDAREA             int64\n",
       "SOURCE              object\n",
       "ZIPCODE            float64\n",
       "LATITUDE           float64\n",
       "LONGITUDE          float64\n",
       "ASSESSMENT_NBHD     object\n",
       "CENSUS_TRACT       float64\n",
       "WARD                object\n",
       "SQUARE              object\n",
       "QUADRANT            object\n",
       "dtype: object"
      ]
     },
     "execution_count": 31,
     "metadata": {},
     "output_type": "execute_result"
    }
   ],
   "source": [
    "housing_data_copy.dtypes"
   ]
  },
  {
   "cell_type": "code",
   "execution_count": null,
   "metadata": {
    "_uuid": "30da05dfab083a93ab4eb5cf2f752aaad2a69f4d"
   },
   "outputs": [],
   "source": [
    "housing_data_copy[['BATHRM','HF_BATHRM','ROOMS','BEDRM','AYB','EYB','BLDG_NUM','KITCHENS','FIREPLACES','USECODE','ZIPCODE']]=  housing_data_copy[['BATHRM','HF_BATHRM','ROOMS','BEDRM','AYB','EYB','BLDG_NUM','KITCHENS','FIREPLACES','USECODE','ZIPCODE']].astype('category')"
   ]
  },
  {
   "cell_type": "code",
   "execution_count": null,
   "metadata": {
    "_uuid": "2de53f54cbbc5b2284d297931b391304a74b5560"
   },
   "outputs": [],
   "source": [
    "housing_data_copy.dtypes"
   ]
  },
  {
   "cell_type": "markdown",
   "metadata": {
    "_uuid": "a28909a02f62eab045096983ff601a8c731fa91b"
   },
   "source": [
    "# Visualizing data wrt Price"
   ]
  },
  {
   "cell_type": "code",
   "execution_count": null,
   "metadata": {
    "_uuid": "6f30db310d0c111dcb9faa78f9bd8a33ebd70c4d"
   },
   "outputs": [],
   "source": [
    "sns.set(style=\"whitegrid\")\n",
    "plt.figure(figsize=(16,7))\n",
    "ax = sns.barplot(x=\"HEAT\", y=\"PRICE\", data= housing_data_copy)\n",
    "\n",
    "\n",
    "\n",
    "#annotate axis = seaborn axis\n",
    "for p in ax.patches:\n",
    "    ax.text(p.get_x() + p.get_width()/2., p.get_height(), '%d' % int(p.get_height()), \n",
    "            fontsize=12, color='black', ha='center', va='bottom')\n",
    "\n",
    "\n",
    "plt.show()\n",
    "#Graph shows that houses with ht pump are priced high"
   ]
  },
  {
   "cell_type": "code",
   "execution_count": null,
   "metadata": {
    "_uuid": "4949794fe25104d77a83e5472fd2719ae930a6c3"
   },
   "outputs": [],
   "source": [
    "\n",
    "housing_object = housing_data_copy.select_dtypes(include=['O'])\n",
    "housing_object"
   ]
  },
  {
   "cell_type": "code",
   "execution_count": null,
   "metadata": {
    "_uuid": "3089a15468897eaefd9126d88b61f72f56fe2fb2"
   },
   "outputs": [],
   "source": [
    "sns.set(style=\"whitegrid\")\n",
    "plt.figure(figsize=(16,7))\n",
    "ax = sns.barplot(x=\"AC\", y=\"PRICE\", data= housing_data_copy)\n",
    "for p in ax.patches:\n",
    "    ax.text(p.get_x() + p.get_width()/2., p.get_height(), '%d' % int(p.get_height()), \n",
    "            fontsize=12, color='black', ha='center', va='bottom')\n",
    "\n",
    "\n",
    "\n",
    "plt.show()\n",
    "\n",
    "# Graph shows 0 AC can be merged to no AC\n",
    "# AC houses are priced more"
   ]
  },
  {
   "cell_type": "code",
   "execution_count": null,
   "metadata": {
    "_uuid": "df934493d28e5e4944426702ac83684012fb26a4"
   },
   "outputs": [],
   "source": [
    "housing_data_copy[\"AC\"] = housing_data_copy[\"AC\"].replace(to_replace = \"0\" , value = \"N\")"
   ]
  },
  {
   "cell_type": "code",
   "execution_count": null,
   "metadata": {
    "_uuid": "581d321a83b006806876daee0a70747112748ee0"
   },
   "outputs": [],
   "source": [
    "housing_data_copy.AC.value_counts()"
   ]
  },
  {
   "cell_type": "code",
   "execution_count": null,
   "metadata": {
    "_uuid": "0dfa38c6f23f3b90c45b31c3d766cb9f03a7efac"
   },
   "outputs": [],
   "source": [
    "\n",
    "sns.set(style=\"whitegrid\")\n",
    "plt.figure(figsize=(16,7))\n",
    "ax = sns.barplot(x=\"AC\", y=\"PRICE\", data= housing_data_copy)\n",
    "for p in ax.patches:\n",
    "    ax.text(p.get_x() + p.get_width()/2., p.get_height(), '%d' % int(p.get_height()), \n",
    "            fontsize=12, color='black', ha='center', va='bottom')\n",
    "plt.show()"
   ]
  },
  {
   "cell_type": "code",
   "execution_count": null,
   "metadata": {
    "_uuid": "cfd103ca6d7b0ecd2785a756442e9216ceb59596"
   },
   "outputs": [],
   "source": [
    "sns.set(style=\"whitegrid\")\n",
    "plt.figure(figsize=(16,7))\n",
    "ax = sns.barplot(x=\"QUALIFIED\", y=\"PRICE\", data= housing_data_copy)\n",
    "for p in ax.patches:\n",
    "    ax.text(p.get_x() + p.get_width()/2., p.get_height(), '%d' % int(p.get_height()), \n",
    "            fontsize=12, color='black', ha='center', va='bottom')\n",
    "\n",
    "plt.show()\n",
    "\n",
    "# Price of unqualified house is more"
   ]
  },
  {
   "cell_type": "code",
   "execution_count": null,
   "metadata": {
    "_uuid": "8d55394f465371398c998cdbab9dfa0c039e8109"
   },
   "outputs": [],
   "source": [
    "sns.set(style=\"whitegrid\")\n",
    "plt.figure(figsize=(20,7))\n",
    "ax = sns.barplot(x=\"STYLE\", y=\"PRICE\", data= housing_data_copy)\n",
    "for p in ax.patches:\n",
    "    ax.text(p.get_x() + p.get_width()/2., p.get_height(), '%d' % int(p.get_height()), \n",
    "            fontsize=12, color='black', ha='center', va='bottom')\n",
    "\n",
    "plt.show()"
   ]
  },
  {
   "cell_type": "code",
   "execution_count": null,
   "metadata": {
    "_uuid": "5a788a769470d2497bf0de818c4c6b98f5b5622d"
   },
   "outputs": [],
   "source": [
    "sns.set(style=\"whitegrid\")\n",
    "plt.figure(figsize=(16,7))\n",
    "ax = sns.barplot(x=\"STRUCT\", y=\"PRICE\", data= housing_data_copy)\n",
    "for p in ax.patches:\n",
    "    ax.text(p.get_x() + p.get_width()/2., p.get_height(), '%d' % int(p.get_height()), \n",
    "            fontsize=12, color='black', ha='center', va='bottom')\n",
    "\n",
    "plt.show()\n",
    "\n",
    "# Default structure are highly priced"
   ]
  },
  {
   "cell_type": "code",
   "execution_count": null,
   "metadata": {
    "_uuid": "d4bb4656bdd381580b8d29679efb7b7fe12ef619"
   },
   "outputs": [],
   "source": [
    "sns.set(style=\"whitegrid\")\n",
    "plt.figure(figsize=(16,7))\n",
    "ax = sns.barplot(x=\"GRADE\", y=\"PRICE\", data= housing_data_copy)\n",
    "plt.show()"
   ]
  },
  {
   "cell_type": "code",
   "execution_count": null,
   "metadata": {
    "_uuid": "3e49a9d4d1fb4285c4660b16f0be50cd845f6ba6"
   },
   "outputs": [],
   "source": [
    "\n",
    "sns.set(style=\"whitegrid\")\n",
    "plt.figure(figsize=(16,7))\n",
    "ax = sns.barplot(x=\"CNDTN\", y=\"PRICE\", data= housing_data_copy)\n",
    "plt.show()"
   ]
  },
  {
   "cell_type": "code",
   "execution_count": null,
   "metadata": {
    "_uuid": "2eb4acb23337dbb5fc9fad56dc757ec0e4d6dc77"
   },
   "outputs": [],
   "source": [
    "sns.set(style=\"whitegrid\")\n",
    "plt.figure(figsize=(25,7))\n",
    "ax = sns.barplot(x=\"EXTWALL\", y=\"PRICE\", data= housing_data_copy)\n",
    "plt.show()"
   ]
  },
  {
   "cell_type": "code",
   "execution_count": null,
   "metadata": {
    "_uuid": "e05021f0285a8177af3586d0f066cc8238016007"
   },
   "outputs": [],
   "source": [
    "sns.set(style=\"whitegrid\")\n",
    "plt.figure(figsize=(25,7))\n",
    "ax = sns.barplot(x=\"INTWALL\", y=\"PRICE\", data= housing_data_copy)\n",
    "plt.show()"
   ]
  },
  {
   "cell_type": "code",
   "execution_count": null,
   "metadata": {
    "_uuid": "e4befccbc2a89cd46919cab03423d85bcf48224b"
   },
   "outputs": [],
   "source": [
    "sns.set(style=\"whitegrid\")\n",
    "plt.figure(figsize=(25,7))\n",
    "ax = sns.barplot(x=\"ROOF\", y=\"PRICE\", data= housing_data_copy)\n",
    "plt.show()\n",
    "\n",
    "#Price of concrete tile roof house is more but they are very less in no."
   ]
  },
  {
   "cell_type": "code",
   "execution_count": null,
   "metadata": {
    "_uuid": "f39a458c48ee6f042cef6248db47e0199f2c1d73"
   },
   "outputs": [],
   "source": [
    "housing_data_copy[\"ROOF\"].value_counts()"
   ]
  },
  {
   "cell_type": "code",
   "execution_count": null,
   "metadata": {
    "_uuid": "cff634ec4eb67d7aec3fd6f2f9118e530deb9947"
   },
   "outputs": [],
   "source": [
    "#SOURCE\tASSESSMENT_NBHD\tWARD\tSQUARE\tQUADRANT\n",
    "\n",
    "\n",
    "sns.set(style=\"whitegrid\")\n",
    "plt.figure(figsize=(16,7))\n",
    "ax = sns.barplot(x=\"SOURCE\", y=\"PRICE\", data= housing_data_copy)\n",
    "plt.show()"
   ]
  },
  {
   "cell_type": "code",
   "execution_count": null,
   "metadata": {
    "_uuid": "8ba9d7a9f58cafa138f71bb1951fe546557fe1a2"
   },
   "outputs": [],
   "source": [
    "housing_data_copy[\"SOURCE\"].value_counts()"
   ]
  },
  {
   "cell_type": "code",
   "execution_count": null,
   "metadata": {
    "_uuid": "3816f6efdd7b58e97729d2850891782d76dcf42a"
   },
   "outputs": [],
   "source": [
    "sns.set(style=\"whitegrid\")\n",
    "plt.figure(figsize=(25,7))\n",
    "ax = sns.barplot(x=\"WARD\", y=\"PRICE\", data= housing_data_copy)\n",
    "plt.show()"
   ]
  },
  {
   "cell_type": "code",
   "execution_count": null,
   "metadata": {
    "_uuid": "9c2ade2013542fbe32ac034609d85236666fbddf"
   },
   "outputs": [],
   "source": [
    "housing_data_copy[\"WARD\"].value_counts()"
   ]
  },
  {
   "cell_type": "code",
   "execution_count": null,
   "metadata": {
    "_uuid": "faa268ca7666901d26eb1126dc05744c549fd356"
   },
   "outputs": [],
   "source": [
    "#square- give int\n",
    "# assessment nbhd - give int"
   ]
  },
  {
   "cell_type": "code",
   "execution_count": null,
   "metadata": {
    "_uuid": "4d928f3debab3ef2a69721f4284a2eca761767df"
   },
   "outputs": [],
   "source": [
    "sns.set(style=\"whitegrid\")\n",
    "plt.figure(figsize=(25,7))\n",
    "ax = sns.barplot(x=\"QUADRANT\", y=\"PRICE\", data= housing_data_copy)\n",
    "plt.show()"
   ]
  },
  {
   "cell_type": "code",
   "execution_count": null,
   "metadata": {
    "_uuid": "e9f79f2ad9e983fd7f12d000221d4ef49fbd327b"
   },
   "outputs": [],
   "source": [
    "sns.set(style=\"whitegrid\")\n",
    "plt.figure(figsize=(25,7))\n",
    "ax = sns.barplot(x=\"BATHRM\", y=\"PRICE\", data= housing_data_copy)\n",
    "plt.show()"
   ]
  },
  {
   "cell_type": "code",
   "execution_count": null,
   "metadata": {
    "_uuid": "514d0c01b088e2b9f60bc57d2b09928e9b7d00a8"
   },
   "outputs": [],
   "source": [
    "sns.set(style=\"whitegrid\")\n",
    "plt.figure(figsize=(25,7))\n",
    "ax = sns.barplot(x=\"HF_BATHRM\", y=\"PRICE\", data= housing_data_copy)\n",
    "plt.show()"
   ]
  },
  {
   "cell_type": "code",
   "execution_count": null,
   "metadata": {
    "_uuid": "1e744033b67aac693cd930d80bc458c9d5580480"
   },
   "outputs": [],
   "source": [
    "sns.set(style=\"whitegrid\")\n",
    "plt.figure(figsize=(25,7))\n",
    "ax = sns.barplot(x=\"ROOMS\", y=\"PRICE\", data= housing_data_copy)\n",
    "plt.show()"
   ]
  },
  {
   "cell_type": "code",
   "execution_count": null,
   "metadata": {
    "_uuid": "2ad4559f3b4bfcb29c528f556893654d21b8c70c"
   },
   "outputs": [],
   "source": [
    "sns.set(style=\"whitegrid\")\n",
    "plt.figure(figsize=(25,7))\n",
    "ax = sns.barplot(x=\"BEDRM\", y=\"PRICE\", data= housing_data_copy)\n",
    "plt.show()"
   ]
  },
  {
   "cell_type": "code",
   "execution_count": null,
   "metadata": {
    "_uuid": "3630efe9a72590657be241826451e6291c45dcce"
   },
   "outputs": [],
   "source": [
    "plt.figure(figsize=(25,7))\n",
    "ax = sns.barplot(x=\"KITCHENS\", y=\"PRICE\", data= housing_data_copy)\n",
    "plt.show()"
   ]
  },
  {
   "cell_type": "code",
   "execution_count": null,
   "metadata": {
    "_uuid": "125fd4dec2792c8850095780db01eba4551d3b2f"
   },
   "outputs": [],
   "source": [
    "plt.figure(figsize=(25,7))\n",
    "ax = sns.barplot(x=\"FIREPLACES\", y=\"PRICE\", data= housing_data_copy)\n",
    "plt.show()"
   ]
  },
  {
   "cell_type": "code",
   "execution_count": null,
   "metadata": {
    "_uuid": "52e46f1e739705e4cebd22b7a10d940a5c66777b"
   },
   "outputs": [],
   "source": [
    "plt.figure(figsize=(25,7))\n",
    "ax = sns.barplot(x=\"ZIPCODE\", y=\"PRICE\", data= housing_data_copy)\n",
    "plt.show()"
   ]
  },
  {
   "cell_type": "code",
   "execution_count": null,
   "metadata": {
    "_uuid": "b94ef02d4836425b12d30d5caa7dd578c1c87648"
   },
   "outputs": [],
   "source": [
    "housing_data_copy[\"ZIPCODE\"].value_counts()"
   ]
  },
  {
   "cell_type": "code",
   "execution_count": null,
   "metadata": {
    "_uuid": "ea84df71e9ffcde9fdbe29ffbac745a0aeaf8a7b"
   },
   "outputs": [],
   "source": [
    "\n",
    "housing_int = housing_data_copy.select_dtypes(include=['int64','float'])\n",
    "housing_int.columns"
   ]
  },
  {
   "cell_type": "code",
   "execution_count": null,
   "metadata": {
    "_uuid": "d4289b367d06099753d382d2c6f9fbc56b4b2061"
   },
   "outputs": [],
   "source": [
    "ax = sns.lineplot(x=\"GBA\", y=\"PRICE\", data=housing_data_copy)"
   ]
  },
  {
   "cell_type": "code",
   "execution_count": null,
   "metadata": {
    "_uuid": "bbd4efa3c5da91ef768989717c86af7efba63348"
   },
   "outputs": [],
   "source": [
    "ax = sns.lineplot(x=\"AYB\", y=\"PRICE\", data=housing_data_copy)"
   ]
  },
  {
   "cell_type": "code",
   "execution_count": null,
   "metadata": {
    "_uuid": "be1e35f6ffbc159fd4b038c939435c5361b972a7"
   },
   "outputs": [],
   "source": [
    "ax = sns.lineplot(x=\"EYB\", y=\"PRICE\", data=housing_data_copy)"
   ]
  },
  {
   "cell_type": "markdown",
   "metadata": {
    "_uuid": "675c6fda310d62d3b67d5447569abe5b5f109499"
   },
   "source": [
    "# Checking and Treating column wise missing values "
   ]
  },
  {
   "cell_type": "code",
   "execution_count": null,
   "metadata": {
    "_uuid": "ff44744e77aca21b574def12f83e09c5c78f247b"
   },
   "outputs": [],
   "source": [
    "housing_data_copy.isnull().sum()"
   ]
  },
  {
   "cell_type": "code",
   "execution_count": null,
   "metadata": {
    "_uuid": "530d4d2122b551a2dd29ed46dc5730f2df8ff8c8"
   },
   "outputs": [],
   "source": [
    "#housing_data_copy.dtypes"
   ]
  },
  {
   "cell_type": "code",
   "execution_count": null,
   "metadata": {
    "_uuid": "547790ed01c53a6a8e8cf45bb24c4e33de977d5b"
   },
   "outputs": [],
   "source": [
    "#Object columns with null values\n",
    " \n",
    "for i in housing_data_copy.select_dtypes(include=['object','category']):\n",
    "    if(housing_data_copy[i].isnull().sum()!=0):\n",
    "        print(i)\n"
   ]
  },
  {
   "cell_type": "markdown",
   "metadata": {
    "_uuid": "b3f4fb17627721c56f767d94b2207b1264c18e59"
   },
   "source": [
    "# Missingness Pattern of Object data types"
   ]
  },
  {
   "cell_type": "code",
   "execution_count": null,
   "metadata": {
    "_uuid": "905ca274de9eda1f449bd3c4905e469c3b558e1a"
   },
   "outputs": [],
   "source": [
    "housing_object = housing_data_copy.select_dtypes(include=['object','category'])\n",
    "sns.heatmap(housing_object.isnull(), cbar = False)\n",
    "\n",
    "#So there is a pattern in the missingness of style, struct, grade, cndtn, extwall, roof, intwall,full address,national grid, census"
   ]
  },
  {
   "cell_type": "markdown",
   "metadata": {
    "_uuid": "912202ba2a0e49378f83409ee5e0c60168c447ad"
   },
   "source": [
    "# Imputing Quadrant"
   ]
  },
  {
   "cell_type": "code",
   "execution_count": null,
   "metadata": {
    "_uuid": "802ddc0d3432dd042612d2fca62e71f37a648708"
   },
   "outputs": [],
   "source": [
    "housing_data_copy.QUADRANT = housing_data_copy.QUADRANT.fillna(housing_data_copy.QUADRANT.mode()[0]) \n",
    "housing_data_copy.QUADRANT.isnull().sum()"
   ]
  },
  {
   "cell_type": "markdown",
   "metadata": {
    "_uuid": "2cf5112ae912f78db3f2c189d4e92746d11f1c05"
   },
   "source": [
    "# Imputing Saledate"
   ]
  },
  {
   "cell_type": "code",
   "execution_count": null,
   "metadata": {
    "_uuid": "981878e2735e95dbcc654b020f4d096ecc13afd4"
   },
   "outputs": [],
   "source": [
    "# Going by each object column with missing values\n",
    "\n",
    "housing_data_copy['SALEDATE']=pd.to_datetime(housing_data_copy['SALEDATE'], format=\"%Y/%m/%d\")\n"
   ]
  },
  {
   "cell_type": "code",
   "execution_count": null,
   "metadata": {
    "_uuid": "467ed8a961ab3005c746d9577f9ad1b9246bf4ca"
   },
   "outputs": [],
   "source": [
    "housing_data_copy['SALEDATE']= housing_data_copy['SALEDATE'].dt.year"
   ]
  },
  {
   "cell_type": "code",
   "execution_count": null,
   "metadata": {
    "_uuid": "f4b7940a3ebeee28ab97017b0d46ebd218257cea"
   },
   "outputs": [],
   "source": [
    "#Graph before imputation of missing values \n",
    "# It is left skewed\n",
    "plt.figure(figsize=(16,7))\n",
    "sns.distplot(housing_data_copy['SALEDATE'].dropna(), kde=False, rug=True)\n",
    "plt.show()"
   ]
  },
  {
   "cell_type": "code",
   "execution_count": null,
   "metadata": {
    "_uuid": "8ffb40e5be90fb484bc6041ed6a4dbd4575175e2"
   },
   "outputs": [],
   "source": [
    "from dateutil.parser import parse\n",
    "import datetime"
   ]
  },
  {
   "cell_type": "code",
   "execution_count": null,
   "metadata": {
    "_uuid": "52a6c884ad9593758fbd9da1c29df98fcd67f495"
   },
   "outputs": [],
   "source": [
    "#housing_data_copy['sale_year'].value_counts()"
   ]
  },
  {
   "cell_type": "code",
   "execution_count": null,
   "metadata": {
    "_uuid": "f08015cc0fc6a9aa601d8628bf5380e4a8e85526"
   },
   "outputs": [],
   "source": [
    "housing_data_copy['SALEDATE'].interpolate(inplace=True)"
   ]
  },
  {
   "cell_type": "code",
   "execution_count": null,
   "metadata": {
    "_uuid": "46a4eb3e0412ae60261a0610cd8d70658a0b1c4e"
   },
   "outputs": [],
   "source": [
    "#Graph after sale date missing values imputation\n",
    "\n",
    "plt.figure(figsize=(16,7))\n",
    "sns.distplot(housing_data_copy['SALEDATE'], kde=False, rug=True)\n",
    "plt.show()"
   ]
  },
  {
   "cell_type": "markdown",
   "metadata": {
    "_uuid": "8285ccf8969d61afc6037cc1bb9b2377bb820f7f"
   },
   "source": [
    "# Imputing through function,\n",
    "# On following columns:\n",
    "# CNDTN, EXTWALL, ROOF, INTWALL,STYLE,STRUCT,GRADE"
   ]
  },
  {
   "cell_type": "code",
   "execution_count": null,
   "metadata": {
    "_uuid": "0e7ff0b897e37fd3b01cecac40a6d71e88e6890c"
   },
   "outputs": [],
   "source": [
    "# As around 33% of the data is missing in CNDTN, EXTWALL, ROOF, INTWALL,STYLE,STRUCT,GRADE columns, \n",
    "# imputing those with mode will not be a great strategy \n",
    "# 15% shall be imputed with mode\n",
    "# A new category named as \"Other\" category is created for those whose frequency is less\n",
    "# And Rest 15% nan shall be included in \"Other\" category"
   ]
  },
  {
   "cell_type": "code",
   "execution_count": null,
   "metadata": {
    "_uuid": "000f0684cd42633c5d8716ef4a065f1c5667c4b5"
   },
   "outputs": [],
   "source": [
    "for i in housing_data_copy[[\"CNDTN\", \"EXTWALL\", \"ROOF\", \"INTWALL\",\"STYLE\",\"STRUCT\",\"GRADE\"]]:\n",
    "    frequency = pd.value_counts(housing_data_copy[i])\n",
    "    #print(frequency)\n",
    "    condition = (frequency/frequency.sum() * 100).lt(1)\n",
    "    #print(condition)\n",
    "    \n",
    "    # To replace df['column'] use np.where I.e \n",
    "    housing_data_copy[i] = np.where(housing_data_copy[i].isin(frequency[condition].index),'Other',housing_data_copy[i])\n",
    "\n",
    "    #new = series[~mask]\n",
    "    #new['Other'] = series[mask].sum()\n",
    "\n",
    "    pd.value_counts(housing_data_copy[i])\n",
    "    \n",
    "    y = housing_data_copy.loc[housing_data_copy[i].isnull(),]\n",
    "    y1 = y.iloc[0:26130,]\n",
    "    #print(y1)\n",
    "    y1.loc[:,i]= housing_data_copy[i].mode()[0]\n",
    "    # print(y1[i])\n",
    "    # print(y1[i].isnull().sum())\n",
    "   \n",
    "    y2 = y.iloc[26130:52261,]\n",
    "    y2.loc[:,i]= \"Other\"\n",
    "    y1 = y1.append(y2)\n",
    "    #print(y1)\n",
    "    housing_data_copy.loc[106696:158956,i]=y1.loc[106696:158956,i]\n",
    "    print(\"no. of missing values in\",i,\"are\",housing_data_copy[i].isnull().sum())\n",
    "\n",
    "   "
   ]
  },
  {
   "cell_type": "code",
   "execution_count": null,
   "metadata": {
    "_uuid": "2f5d6243df6541c52ae230d96f07d15a5b04c094"
   },
   "outputs": [],
   "source": [
    "#housing_data_copy[\"STYLE\"].fillna(housing_data_copy[\"STYLE\"].value_counts().idxmax())"
   ]
  },
  {
   "cell_type": "markdown",
   "metadata": {
    "_uuid": "3fa0a102e4f0ea131e525e46f793d1567ad8679a"
   },
   "source": [
    "# Imputing kitchen "
   ]
  },
  {
   "cell_type": "code",
   "execution_count": null,
   "metadata": {
    "_uuid": "ba3a7eb4be9f2519f86d4e47540066540b887f5f"
   },
   "outputs": [],
   "source": [
    "\n",
    "#print(housing_data_copy.KITCHENS.mode()[0])\n",
    "# As the histogram distribution tells the graph is highly right skewed, \n",
    "# let's replace the values with median as mean doen't make sense\n",
    "\n",
    "housing_data_copy.KITCHENS =housing_data_copy.KITCHENS.fillna(housing_data_copy.KITCHENS.mode()[0])\n",
    "housing_data_copy['KITCHENS'].isnull().sum()"
   ]
  },
  {
   "cell_type": "code",
   "execution_count": null,
   "metadata": {
    "_uuid": "ad89fee676d450a9a7f4c6b32b316b042c4a0b6e"
   },
   "outputs": [],
   "source": [
    "housing_data_copy.WARD  = housing_data_copy.WARD.fillna(housing_data_copy.WARD.mode()[0]) \n",
    "#housing_data_copy.SQUARE  = housing_data_copy.SQUARE.fillna(housing_data_copy.SQUARE.mode()[0]) \n",
    "housing_data_copy.ASSESSMENT_NBHD  = housing_data_copy.ASSESSMENT_NBHD.fillna(housing_data_copy.ASSESSMENT_NBHD.mode()[0]) "
   ]
  },
  {
   "cell_type": "code",
   "execution_count": null,
   "metadata": {
    "_uuid": "d2d44a27d1f58fc0f8508a72e40caf27f7bcce40"
   },
   "outputs": [],
   "source": [
    "housing_data_copy['ZIPCODE'] = housing_data_copy['ZIPCODE'].fillna(housing_data_copy['ZIPCODE'].mode()[0])\n",
    "housing_data_copy['AYB'] = housing_data_copy['AYB'].fillna(housing_data_copy['AYB'].mode()[0])\n",
    "\n",
    "#housing_data_copy['ZIPCODE'].interpolate(inplace=True)\n",
    "#housing_data_copy['LATITUDE'].interpolate(inplace=True)\n",
    "#housing_data_copy['LONGITUDE'].interpolate(inplace=True)\n",
    "#housing_data_copy['CENSUS_TRACT'].interpolate(inplace=True)\n",
    "#housing_data_copy['AYB'].interpolate(inplace=True)"
   ]
  },
  {
   "cell_type": "markdown",
   "metadata": {
    "_uuid": "a65321ac55ca1926662b4c0ba011b2ceb13400ff"
   },
   "source": [
    "# Checking and imputing missingness of int and float columns"
   ]
  },
  {
   "cell_type": "code",
   "execution_count": null,
   "metadata": {
    "_uuid": "ffd140a163e0a11f4986f92f7231d59e492318ea"
   },
   "outputs": [],
   "source": [
    "# int and float columns with null values\n",
    "\n",
    "\n",
    "for i in housing_data_copy.select_dtypes(include =['int64','float64']):\n",
    "    if(housing_data_copy[i].isnull().sum()!=0):\n",
    "        print(i)\n",
    "    "
   ]
  },
  {
   "cell_type": "code",
   "execution_count": null,
   "metadata": {
    "_uuid": "f36f00d93ff15f6ca3046270641d74e257d4b35f"
   },
   "outputs": [],
   "source": [
    "housing_int = housing_data_copy.select_dtypes(include =['int64','float64'])\n",
    "sns.heatmap(housing_int.isnull(), cbar = False)"
   ]
  },
  {
   "cell_type": "code",
   "execution_count": null,
   "metadata": {
    "_uuid": "bdc40ccc4b6db614b8ce9d26e610a078abc22c50"
   },
   "outputs": [],
   "source": [
    "housing_data_copy['LATITUDE'].interpolate(inplace=True)\n",
    "housing_data_copy['LONGITUDE'].interpolate(inplace=True)\n",
    "housing_data_copy['CENSUS_TRACT'].interpolate(inplace=True)\n",
    "#so except price all the null values are filled"
   ]
  },
  {
   "cell_type": "code",
   "execution_count": null,
   "metadata": {
    "_uuid": "8cb19c4fa3bbea8344a9d31a9f4444c031dcf816"
   },
   "outputs": [],
   "source": [
    "housing_data_copy_price_notnull = housing_data_copy.loc[~housing_data_copy[\"PRICE\"].isnull(),]"
   ]
  },
  {
   "cell_type": "code",
   "execution_count": null,
   "metadata": {
    "_uuid": "9ef83c69681a965619fa60bcbaf4e00ad267a78d"
   },
   "outputs": [],
   "source": [
    "housing_data_copy_price_notnull.isnull().sum()"
   ]
  },
  {
   "cell_type": "code",
   "execution_count": null,
   "metadata": {
    "_uuid": "b59a6a2c3629f8200d56af76157752954412a494"
   },
   "outputs": [],
   "source": [
    "# Relation between price and different int variables"
   ]
  },
  {
   "cell_type": "markdown",
   "metadata": {
    "_uuid": "dbcfa4656098e6c895da20f33a7331e331875290"
   },
   "source": [
    "# Outliers treatment"
   ]
  },
  {
   "cell_type": "code",
   "execution_count": null,
   "metadata": {
    "_uuid": "59d1236735ac421529209ee7e4e351bfc020ec3a"
   },
   "outputs": [],
   "source": [
    "#housing_int = housing_data_copy.select_dtypes(include=['int64','float64'])\n",
    "#housing_int.columns"
   ]
  },
  {
   "cell_type": "code",
   "execution_count": null,
   "metadata": {
    "_uuid": "7709485b09adacc45453727b11274de46eb0606e"
   },
   "outputs": [],
   "source": [
    "#housing_int2 = housing_int[['BATHRM', 'HF_BATHRM', 'ROOMS', 'BEDRM','EYB', 'SALEDATE','SALE_NUM', 'GBA', 'BLDG_NUM', 'KITCHENS', 'FIREPLACES',\n",
    "      # 'USECODE', 'LANDAREA', 'ZIPCODE', 'LATITUDE', 'LONGITUDE','CENSUS_TRACT']]"
   ]
  },
  {
   "cell_type": "markdown",
   "metadata": {
    "_uuid": "9206107d90c21ec9eaa4e99b18e0b0ec0d340b88"
   },
   "source": [
    "# Checking if outlier removal makes sense or not"
   ]
  },
  {
   "cell_type": "code",
   "execution_count": null,
   "metadata": {
    "_uuid": "6000f580951defbac41db9a4b911d04af0ede119"
   },
   "outputs": [],
   "source": [
    "import matplotlib.pyplot as plt\n",
    "import seaborn as sns\n",
    "\n",
    "for i in housing_data_copy_price_notnull.select_dtypes(include=['int64','float64','category']):\n",
    "    plt.figure(figsize=(16,7))\n",
    "    sns.boxplot(x=housing_data_copy_price_notnull[i])\n",
    "    plt.show()\n",
    "    \n",
    "# Bathroom - Keeping outlier as 4 bathroom makes sense\n",
    "# HF Bathroom - No outlier\n",
    "# Rooms - Outliers in rooms makes sense\n",
    "# Bed room - Outlier 0 bedroom where room is more than 2 shall be removed##############################################\n",
    "# EYB, saledate, sale num - Outliers shall be kept\n",
    "# GBA - Outlier should be treated as for ex Area 0 doesn't make any sense #################################################\n",
    "# BLdg_num - Outlier can be kept\n",
    "# Kitchen - Outliers shall be treated ###############################################################################\n",
    "# fireplaces - Outliers shall be treated ###############################################################################\n",
    "# Usecode - Keeping outliers as it makes sense\n",
    "# Landarea - Outliers shall be treated ###############################################################################\n",
    "# Zipcode, Latitude, Longitude, census tract outliers can be kept.\n"
   ]
  },
  {
   "cell_type": "code",
   "execution_count": null,
   "metadata": {
    "_uuid": "beb493d3927aa0756c6a72aeb3e199919480d844"
   },
   "outputs": [],
   "source": [
    "#housing_int3 = housing_int2[[\"BEDRM\",\"GBA\",\"KITCHENS\",\"FIREPLACES\", \"LANDAREA\"]]"
   ]
  },
  {
   "cell_type": "markdown",
   "metadata": {
    "_uuid": "e29a8015f4c841c8bde82a89cc0180f913b3ed09"
   },
   "source": [
    "# Calculating and removing by z score calculation"
   ]
  },
  {
   "cell_type": "code",
   "execution_count": null,
   "metadata": {
    "_uuid": "70fc24c1ecfe674e127a60a58cbef2d9833a68f8"
   },
   "outputs": [],
   "source": [
    "from scipy import stats"
   ]
  },
  {
   "cell_type": "code",
   "execution_count": null,
   "metadata": {
    "_uuid": "4a1e740d25597927abdb59ecf46d9ad44408a00d"
   },
   "outputs": [],
   "source": [
    "for i in housing_data_copy_price_notnull.select_dtypes(include=['int64','float64','category']):\n",
    "    z = np.abs(stats.zscore(housing_data_copy_price_notnull[i]))\n",
    "    housing_data_copy_price_notnull = housing_data_copy_price_notnull[(z < 3)]\n"
   ]
  },
  {
   "cell_type": "code",
   "execution_count": null,
   "metadata": {
    "_uuid": "37e2a4c19af46eaa342e50d063a732eea22e903c"
   },
   "outputs": [],
   "source": [
    "housing_data_copy_price_notnull.shape\n",
    "\n",
    "# earlier it was (158957, 35)\n",
    "# so around 9623 rows are cut down to remove outliers"
   ]
  },
  {
   "cell_type": "markdown",
   "metadata": {
    "_uuid": "1f368f0c8980bdfd8b2c7c3b4885f45b072b4b16"
   },
   "source": [
    "# Calculating pearson correlation among int/float variables"
   ]
  },
  {
   "cell_type": "code",
   "execution_count": null,
   "metadata": {
    "_uuid": "64fe7614ccc38f43b85021adf3f0a5433929e661"
   },
   "outputs": [],
   "source": [
    "#housing_data_copy.AYB = housing_data_copy.AYB.apply(lambda x: x-2018)\n",
    "#housing_data_copy.EYB = housing_data_copy.EYB.apply(lambda x: x-2018)\n",
    "#housing_data_copy.SALEDATE = housing_data_copy.SALEDATE.apply(lambda x: x-2018)"
   ]
  },
  {
   "cell_type": "code",
   "execution_count": null,
   "metadata": {
    "_uuid": "be1e083eba590c06e2a59b2980a3031d92cf41f4"
   },
   "outputs": [],
   "source": [
    "\n",
    "corrmat = housing_data_copy_price_notnull.corr()\n",
    "sns.heatmap(corrmat, vmax=.8, square=True)"
   ]
  },
  {
   "cell_type": "code",
   "execution_count": null,
   "metadata": {
    "_uuid": "fa2b5c8a074c18927d30cccd537e6f8e7756bf19"
   },
   "outputs": [],
   "source": [
    "k = 11 #number of variables for heatmap\n",
    "cols = corrmat.nlargest(k, 'PRICE')['PRICE'].index\n",
    "cm = np.corrcoef(housing_int[cols].values.T)\n",
    "sns.set(font_scale=1.00)\n",
    "hm = sns.heatmap(cm, cbar=True, annot=True, square=True, fmt='.2f', annot_kws={'size': 10}, yticklabels=cols.values, xticklabels=cols.values)\n",
    "plt.show()"
   ]
  },
  {
   "cell_type": "code",
   "execution_count": null,
   "metadata": {
    "_uuid": "a1f96505cf42a3d67bb204ed85cec0adab7e0312"
   },
   "outputs": [],
   "source": [
    "# Highly correlated variables can be removed to avoid multi collinearity problem\n",
    "\n",
    "# Remove GBA as it highly negatively correlated with saledate and salenum\n",
    "# Remove saledate as it correlated with sale_num\n",
    "\n",
    "housing_data_copy_price_notnull = housing_data_copy_price_notnull.drop([\"GBA\",\"SALEDATE\"], axis = 1)"
   ]
  },
  {
   "cell_type": "code",
   "execution_count": null,
   "metadata": {
    "_uuid": "f7752386e3b0cb1968c95aa6cd493fc6552761ef"
   },
   "outputs": [],
   "source": [
    "housing_data_copy_price_notnull.columns\n",
    "#housing_data_copy.head()\n",
    "#final columns"
   ]
  },
  {
   "cell_type": "code",
   "execution_count": null,
   "metadata": {
    "_uuid": "3b868d5a4ff0787340cbc57566b5d9b895e3e620"
   },
   "outputs": [],
   "source": [
    "housing_data_copy_price_notnull.isnull().sum()"
   ]
  },
  {
   "cell_type": "code",
   "execution_count": null,
   "metadata": {
    "_uuid": "39163d383f79edf933358643f3e0494d71deb406"
   },
   "outputs": [],
   "source": [
    "'''\n",
    "g = sns.pairplot(housing_data_copy_price_notnull)\n",
    "'''"
   ]
  },
  {
   "cell_type": "code",
   "execution_count": null,
   "metadata": {
    "_uuid": "5928d6908c1af5537407baa3fbd622566c6baf72"
   },
   "outputs": [],
   "source": [
    "#train_dataset = (train_dataset - train_dataset.mean()) / (train_dataset.max() - train_dataset.min())"
   ]
  },
  {
   "cell_type": "markdown",
   "metadata": {
    "_uuid": "727e3acf79ff8fdde2c94e3ed039d05133945dce"
   },
   "source": [
    "# Label encoding for object data types"
   ]
  },
  {
   "cell_type": "code",
   "execution_count": null,
   "metadata": {
    "_uuid": "92f7840bc4ec0704daa56b7d82c35f1f3f5f399c"
   },
   "outputs": [],
   "source": [
    "\n",
    "housing_object = housing_data_copy_price_notnull.select_dtypes(include=['object','category'])\n",
    "\n",
    "print(housing_object.columns)\n",
    "housing_object.head()\n"
   ]
  },
  {
   "cell_type": "code",
   "execution_count": null,
   "metadata": {
    "_uuid": "0f4aa9c285c635fe54fa2857af0ab6ae2c6dc967"
   },
   "outputs": [],
   "source": [
    "#obj_df[\"make_code\"] = lb_make.fit_transform(obj_df[\"make\"])\n",
    "housing_data_copy_price_notnull['HEAT']=lb_make.fit_transform(housing_data_copy_price_notnull['HEAT'])\n",
    "housing_data_copy_price_notnull['AC']= lb_make.fit_transform(housing_data_copy_price_notnull['AC'])\n",
    "housing_data_copy_price_notnull['QUALIFIED']= lb_make.fit_transform(housing_data_copy_price_notnull['QUALIFIED'])\n",
    "housing_data_copy_price_notnull['STYLE']= lb_make.fit_transform(housing_data_copy_price_notnull['STYLE'])\n",
    "housing_data_copy_price_notnull['STRUCT']= lb_make.fit_transform(housing_data_copy_price_notnull['STRUCT'])\n",
    "housing_data_copy_price_notnull['GRADE']= lb_make.fit_transform(housing_data_copy_price_notnull['GRADE'])\n",
    "housing_data_copy_price_notnull['CNDTN']= lb_make.fit_transform(housing_data_copy_price_notnull['CNDTN'])\n",
    "housing_data_copy_price_notnull['EXTWALL']= lb_make.fit_transform(housing_data_copy_price_notnull['EXTWALL'])\n",
    "housing_data_copy_price_notnull['ROOF']= lb_make.fit_transform(housing_data_copy_price_notnull['ROOF'])\n",
    "housing_data_copy_price_notnull['INTWALL']= lb_make.fit_transform(housing_data_copy_price_notnull['INTWALL'])\n",
    "#housing_data_copy_price_notnull['GIS_LAST_MOD_DTTM']= lb_make.fit_transform(housing_data_copy_price_notnull['GIS_LAST_MOD_DTTM'])\n",
    "housing_data_copy_price_notnull['SOURCE']= lb_make.fit_transform(housing_data_copy_price_notnull['SOURCE'])\n",
    "#housing_object['ASSESSMENT_NBHD']= lb_make.fit_transform(housing_object['ASSESSMENT_NBHD'])\n",
    "#housing_object['WARD']= lb_make.fit_transform(housing_object['WARD'])\n",
    "#housing_object['SQUARE']= lb_make.fit_transform(housing_object['SQUARE'])\n",
    "housing_data_copy_price_notnull['QUADRANT']= lb_make.fit_transform(housing_data_copy_price_notnull['QUADRANT'])\n",
    "housing_data_copy_price_notnull['WARD']= lb_make.fit_transform(housing_data_copy_price_notnull['WARD'])"
   ]
  },
  {
   "cell_type": "code",
   "execution_count": null,
   "metadata": {
    "_uuid": "368ea3077d1c45852713ecb5b2a2e0225a1041e3"
   },
   "outputs": [],
   "source": [
    "housing_data_copy_price_notnull['ASSESSMENT_NBHD']= lb_make.fit_transform(housing_data_copy_price_notnull['ASSESSMENT_NBHD'])"
   ]
  },
  {
   "cell_type": "code",
   "execution_count": null,
   "metadata": {
    "_uuid": "1662fc66dd08b1bd4230ee19cf50a1bda55ad2a3"
   },
   "outputs": [],
   "source": [
    "#housing_data_copy['ASSESSMENT_NBHD']"
   ]
  },
  {
   "cell_type": "code",
   "execution_count": null,
   "metadata": {
    "_uuid": "984d7286da70d2160a6a86b87c1897d847f7618c"
   },
   "outputs": [],
   "source": [
    "housing_data_copy_price_notnull['WARD']= lb_make.fit_transform(housing_data_copy_price_notnull['WARD'])"
   ]
  },
  {
   "cell_type": "code",
   "execution_count": null,
   "metadata": {
    "_uuid": "a972836bd9d902d130ff40f4b72f1af710a03515"
   },
   "outputs": [],
   "source": [
    "# droping square for now as it has high cardinality\n",
    "\n",
    "#housing_data_copy_price_notnull = housing_data_copy_price_notnull.drop([\"SQUARE\"], axis = 1)\n"
   ]
  },
  {
   "cell_type": "code",
   "execution_count": null,
   "metadata": {
    "_uuid": "fd94ba69064fe94bb9dc7eb883d1e94f2b3ad523"
   },
   "outputs": [],
   "source": [
    "housing_data_copy_price_notnull.head()"
   ]
  },
  {
   "cell_type": "code",
   "execution_count": null,
   "metadata": {
    "_uuid": "137db86c317a2da33da4acb621177bb24e7371d1"
   },
   "outputs": [],
   "source": [
    "housing_data_copy_price_notnull.isnull().sum()"
   ]
  },
  {
   "cell_type": "code",
   "execution_count": null,
   "metadata": {
    "_uuid": "d6a6b8cbc4540a6b55edf69f3ee93eed4444317c"
   },
   "outputs": [],
   "source": [
    "for i in housing_data_copy_price_notnull.select_dtypes(include=['object','category']):\n",
    "    sns.set(style=\"whitegrid\")\n",
    "    plt.figure(figsize=(16,7))\n",
    "    ax = sns.barplot(x=housing_data_copy_price_notnull[i], y=\"PRICE\", data= housing_data_copy_price_notnull)\n",
    "    plt.show()\n",
    "    #Graph shows that houses with ht pump are priced high"
   ]
  },
  {
   "cell_type": "code",
   "execution_count": null,
   "metadata": {
    "_uuid": "7db59e89e7c00dbdc918e14f89657bc051f00280"
   },
   "outputs": [],
   "source": [
    "for i in housing_data_copy_price_notnull.select_dtypes(include=['int64','float64']):\n",
    "    sns.set(style=\"whitegrid\")\n",
    "    plt.figure(figsize=(16,7))\n",
    "    ax = sns.lineplot(x=housing_data_copy_price_notnull[i], y=\"PRICE\", data= housing_data_copy_price_notnull)\n",
    "    plt.show()"
   ]
  },
  {
   "cell_type": "markdown",
   "metadata": {
    "_uuid": "5b5f8782e77da4cf852e0b96a4d4dd49a92e7897"
   },
   "source": [
    "# Where the price is null, separating that data as testing data"
   ]
  },
  {
   "cell_type": "code",
   "execution_count": null,
   "metadata": {
    "_uuid": "2b153d42bf5aaf7179b8ec34ccfd1ee1ef8fcdc5"
   },
   "outputs": [],
   "source": [
    "#Plotting price before log transformation\n",
    "sns.distplot(housing_data_copy_price_notnull.PRICE)"
   ]
  },
  {
   "cell_type": "code",
   "execution_count": null,
   "metadata": {
    "_uuid": "32b6883c892120cd5b07e41de1335a5e3bbad1aa"
   },
   "outputs": [],
   "source": [
    "#Converting price to normal distribution using log transformation\n",
    "housing_data_copy_price_notnull[\"PRICE\"] = np.log1p(housing_data_copy_price_notnull[\"PRICE\"])"
   ]
  },
  {
   "cell_type": "code",
   "execution_count": null,
   "metadata": {
    "_uuid": "3bb45aa2ddaeeef11c88e4b9a1604a049bbee298"
   },
   "outputs": [],
   "source": [
    "#ploting price after log transformation\n",
    "sns.distplot(housing_data_copy_price_notnull.PRICE)"
   ]
  },
  {
   "cell_type": "code",
   "execution_count": null,
   "metadata": {
    "_uuid": "01f52ec90cbcf6e16f7464a10c4eed681806ec3e"
   },
   "outputs": [],
   "source": [
    "#by mistake\n",
    "housing_data_copy_price_notnull= housing_data_copy_price_notnull.drop(['QUADRANT'],axis =1)"
   ]
  },
  {
   "cell_type": "code",
   "execution_count": null,
   "metadata": {
    "_uuid": "ca0ae18a844cbb95d2bde9b74719f68781a56da1"
   },
   "outputs": [],
   "source": [
    "#PAR error\n",
    "housing_data_copy_price_notnull= housing_data_copy_price_notnull.drop(['SQUARE'],axis =1)"
   ]
  },
  {
   "cell_type": "code",
   "execution_count": 15,
   "metadata": {
    "_uuid": "d273b7988029e97165723d6942eca8b40030af99"
   },
   "outputs": [
    {
     "ename": "NameError",
     "evalue": "name 'housing_data_copy_price_notnull' is not defined",
     "output_type": "error",
     "traceback": [
      "\u001b[1;31m---------------------------------------------------------------------------\u001b[0m",
      "\u001b[1;31mNameError\u001b[0m                                 Traceback (most recent call last)",
      "\u001b[1;32m<ipython-input-15-0e5da3a9f069>\u001b[0m in \u001b[0;36m<module>\u001b[1;34m()\u001b[0m\n\u001b[1;32m----> 1\u001b[1;33m \u001b[0mX\u001b[0m \u001b[1;33m=\u001b[0m \u001b[0mhousing_data_copy_price_notnull\u001b[0m\u001b[1;33m.\u001b[0m\u001b[0mdrop\u001b[0m\u001b[1;33m(\u001b[0m\u001b[1;33m[\u001b[0m\u001b[1;34m'PRICE'\u001b[0m\u001b[1;33m]\u001b[0m\u001b[1;33m,\u001b[0m\u001b[0maxis\u001b[0m \u001b[1;33m=\u001b[0m\u001b[1;36m1\u001b[0m\u001b[1;33m)\u001b[0m\u001b[1;33m\u001b[0m\u001b[0m\n\u001b[0m\u001b[0;32m      2\u001b[0m \u001b[0my\u001b[0m \u001b[1;33m=\u001b[0m \u001b[0mhousing_data_copy_price_notnull\u001b[0m\u001b[1;33m.\u001b[0m\u001b[0mPRICE\u001b[0m\u001b[1;33m.\u001b[0m\u001b[0mvalues\u001b[0m\u001b[1;33m\u001b[0m\u001b[0m\n",
      "\u001b[1;31mNameError\u001b[0m: name 'housing_data_copy_price_notnull' is not defined"
     ]
    }
   ],
   "source": [
    "X = housing_data_copy_price_notnull.drop(['PRICE'],axis =1)\n",
    "y = housing_data_copy_price_notnull.PRICE.values"
   ]
  },
  {
   "cell_type": "code",
   "execution_count": 16,
   "metadata": {
    "_uuid": "74443080fd57323483c5a77a5a0bd066b4df36ae"
   },
   "outputs": [
    {
     "ename": "NameError",
     "evalue": "name 'X' is not defined",
     "output_type": "error",
     "traceback": [
      "\u001b[1;31m---------------------------------------------------------------------------\u001b[0m",
      "\u001b[1;31mNameError\u001b[0m                                 Traceback (most recent call last)",
      "\u001b[1;32m<ipython-input-16-8d126821d7e3>\u001b[0m in \u001b[0;36m<module>\u001b[1;34m()\u001b[0m\n\u001b[0;32m      1\u001b[0m \u001b[1;32mfrom\u001b[0m \u001b[0msklearn\u001b[0m\u001b[1;33m.\u001b[0m\u001b[0mcross_validation\u001b[0m \u001b[1;32mimport\u001b[0m \u001b[0mtrain_test_split\u001b[0m\u001b[1;33m\u001b[0m\u001b[0m\n\u001b[0;32m      2\u001b[0m \u001b[1;33m\u001b[0m\u001b[0m\n\u001b[1;32m----> 3\u001b[1;33m \u001b[0mX_train\u001b[0m\u001b[1;33m,\u001b[0m\u001b[0mX_test\u001b[0m\u001b[1;33m,\u001b[0m\u001b[0my_train\u001b[0m\u001b[1;33m,\u001b[0m \u001b[0my_test\u001b[0m \u001b[1;33m=\u001b[0m \u001b[0mtrain_test_split\u001b[0m\u001b[1;33m(\u001b[0m\u001b[0mX\u001b[0m\u001b[1;33m,\u001b[0m\u001b[0my\u001b[0m\u001b[1;33m,\u001b[0m \u001b[0mtrain_size\u001b[0m\u001b[1;33m=\u001b[0m\u001b[1;36m0.7\u001b[0m \u001b[1;33m,\u001b[0m \u001b[0mrandom_state\u001b[0m\u001b[1;33m=\u001b[0m\u001b[1;36m100\u001b[0m\u001b[1;33m)\u001b[0m\u001b[1;33m\u001b[0m\u001b[0m\n\u001b[0m",
      "\u001b[1;31mNameError\u001b[0m: name 'X' is not defined"
     ]
    }
   ],
   "source": [
    "from sklearn.cross_validation import train_test_split\n",
    "\n",
    "X_train,X_test,y_train, y_test = train_test_split(X,y, train_size=0.7 , random_state=100)"
   ]
  },
  {
   "cell_type": "code",
   "execution_count": null,
   "metadata": {
    "_uuid": "cd8f8e097c074eb66fdc7b70eb16c331389c6db3"
   },
   "outputs": [],
   "source": [
    "housing_data_copy_price_notnull.columns"
   ]
  },
  {
   "cell_type": "code",
   "execution_count": 13,
   "metadata": {
    "_uuid": "288ad363a3ed91f93702fe4db08de81451e28d46"
   },
   "outputs": [
    {
     "ename": "NameError",
     "evalue": "name 'X_train' is not defined",
     "output_type": "error",
     "traceback": [
      "\u001b[1;31m---------------------------------------------------------------------------\u001b[0m",
      "\u001b[1;31mNameError\u001b[0m                                 Traceback (most recent call last)",
      "\u001b[1;32m<ipython-input-13-d2ba684acd0f>\u001b[0m in \u001b[0;36m<module>\u001b[1;34m()\u001b[0m\n\u001b[1;32m----> 1\u001b[1;33m \u001b[0mX_train\u001b[0m\u001b[1;33m.\u001b[0m\u001b[0mshape\u001b[0m\u001b[1;33m\u001b[0m\u001b[0m\n\u001b[0m",
      "\u001b[1;31mNameError\u001b[0m: name 'X_train' is not defined"
     ]
    }
   ],
   "source": [
    "X_train.shape"
   ]
  },
  {
   "cell_type": "code",
   "execution_count": 14,
   "metadata": {
    "_uuid": "4e85c7ef7f5428b82ad7a43421b4bbf77ca9990f"
   },
   "outputs": [
    {
     "ename": "NameError",
     "evalue": "name 'X_train' is not defined",
     "output_type": "error",
     "traceback": [
      "\u001b[1;31m---------------------------------------------------------------------------\u001b[0m",
      "\u001b[1;31mNameError\u001b[0m                                 Traceback (most recent call last)",
      "\u001b[1;32m<ipython-input-14-83a2368efa17>\u001b[0m in \u001b[0;36m<module>\u001b[1;34m()\u001b[0m\n\u001b[1;32m----> 1\u001b[1;33m \u001b[0mX_train\u001b[0m\u001b[1;33m.\u001b[0m\u001b[0mdtypes\u001b[0m\u001b[1;33m\u001b[0m\u001b[0m\n\u001b[0m\u001b[0;32m      2\u001b[0m \u001b[0mX_train\u001b[0m \u001b[1;33m=\u001b[0m \u001b[0mX_train\u001b[0m\u001b[1;33m.\u001b[0m\u001b[0mapply\u001b[0m\u001b[1;33m(\u001b[0m\u001b[0mpd\u001b[0m\u001b[1;33m.\u001b[0m\u001b[0mto_numeric\u001b[0m\u001b[1;33m)\u001b[0m\u001b[1;33m\u001b[0m\u001b[0m\n\u001b[0;32m      3\u001b[0m \u001b[0mX_test\u001b[0m \u001b[1;33m=\u001b[0m \u001b[0mX_test\u001b[0m\u001b[1;33m.\u001b[0m\u001b[0mapply\u001b[0m\u001b[1;33m(\u001b[0m\u001b[0mpd\u001b[0m\u001b[1;33m.\u001b[0m\u001b[0mto_numeric\u001b[0m\u001b[1;33m)\u001b[0m\u001b[1;33m\u001b[0m\u001b[0m\n",
      "\u001b[1;31mNameError\u001b[0m: name 'X_train' is not defined"
     ]
    }
   ],
   "source": [
    "X_train.dtypes\n",
    "X_train = X_train.apply(pd.to_numeric) \n",
    "X_test = X_test.apply(pd.to_numeric)"
   ]
  },
  {
   "cell_type": "markdown",
   "metadata": {
    "_uuid": "0f4893638e144677367b69cb91140660c167c52a"
   },
   "source": [
    "# Linear regression "
   ]
  },
  {
   "cell_type": "code",
   "execution_count": null,
   "metadata": {
    "_uuid": "00e57d55ff711b75013a4c2e36b568c1d616c0e4",
    "scrolled": true
   },
   "outputs": [],
   "source": [
    "import statsmodels.formula.api as sm\n",
    "from sklearn.metrics import mean_squared_error\n",
    "from sklearn.metrics import r2_score\n",
    "model = sm.OLS(y_train,X_train)\n",
    "fit = model.fit()\n",
    "y_pred = fit.predict(X_test)\n",
    "print(fit.summary())\n",
    "\n",
    "print(mean_squared_error(fit.predict(X_test), y_test))\n",
    "print(np.round(r2_score(y_test, fit.predict(X_test))*100,2),'%')\n",
    "\n",
    "\n",
    "\n",
    "'''First Table: \n",
    "Around 49% of the Y is explained by X variables. Causal link cannot be established without further domain knowledge and \n",
    "checks on residuals. \n",
    "\n",
    "Second Table: \n",
    "The pvalue tells all the variables are significant.\n",
    "\n",
    "Third Table: \n",
    "The data is slightly left skewed with high curve peak than a normally distributed data.\n",
    "There is no multicollinearity in the data as Durbin-Watson's test for autocorrelation is below 2.\n",
    "\n",
    "\n",
    "{\n",
    "Omnibus D’Angostino’s test: It provides a combined statistical test for the presence of skewness and kurtosis.\n",
    "Prob(Omnibus): The above statistic turned into a probability\n",
    "Jarque-Bera: A different test of the skewness and kurtosis\n",
    "Prob (JB): The above statistic turned into a probability\n",
    "Durbin-Watson: A test for the presence of autocorrelation (that the errors are not independent.) Often important in time-series analysis\n",
    "Cond. No: A test for multicollinearity (if in a fit with multiple parameters, the parameters are related with each other).\n",
    "}\n",
    "'''"
   ]
  },
  {
   "cell_type": "code",
   "execution_count": null,
   "metadata": {
    "_uuid": "f373381f43024670f4cb67d850c144564651e554"
   },
   "outputs": [],
   "source": [
    "#import statsmodels.formula.api as smf\n",
    "#import scipy.stats as scipystats\n",
    "#import statsmodels.api as sm\n",
    "#import statsmodels.stats.stattools as stools\n",
    "#import statsmodels.stats as stats \n",
    "#from statsmodels.graphics.regressionplots import *\n",
    "#fig, ax = plt.subplots(figsize=(12,8))\n",
    "#fig = sm.graphics.influence_plot(fit, ax=ax, criterion=\"cooks\")"
   ]
  },
  {
   "cell_type": "code",
   "execution_count": null,
   "metadata": {
    "_uuid": "52b1b40f56f1becbeaaf5736184b78e74c8266c3"
   },
   "outputs": [],
   "source": [
    "#Cross verification of multi collinearity\n",
    "# VIF Check\n",
    "\n",
    "from statsmodels.stats.outliers_influence import variance_inflation_factor\n",
    "variables = fit.model.exog\n",
    "\n",
    "vif = [variance_inflation_factor(variables, i) for i in range(variables.shape[1])]\n",
    "#vif \n",
    "\n",
    "\n",
    "\n",
    "# Print Vif\n",
    "counter = 1\n",
    "for i in vif:\n",
    "    print(\"VIF value for Variable\",counter,\":\",i)\n",
    "    counter += 1\n",
    "del counter\n",
    "print(\"---------------------------------------\")\n",
    "print(\"Mean VIF for all variables:\",np.array(vif).mean())\n"
   ]
  },
  {
   "cell_type": "markdown",
   "metadata": {
    "_uuid": "29b1d45264753498d32e6e76d67f5f9396560a74"
   },
   "source": [
    "# Using sklearn linear model"
   ]
  },
  {
   "cell_type": "code",
   "execution_count": null,
   "metadata": {
    "_uuid": "1b88dfb77daf41648936896256b57bec8f957ab1"
   },
   "outputs": [],
   "source": [
    "from sklearn import datasets, linear_model"
   ]
  },
  {
   "cell_type": "code",
   "execution_count": null,
   "metadata": {
    "_uuid": "8780ad65b49d6ce12d3cae36f7672e8a56966b43"
   },
   "outputs": [],
   "source": [
    "lm = linear_model.LinearRegression()\n",
    "model = lm.fit(X_train, y_train)\n"
   ]
  },
  {
   "cell_type": "code",
   "execution_count": null,
   "metadata": {
    "_uuid": "90b116b19994e846edff5eeb5a7f89e360c2572e"
   },
   "outputs": [],
   "source": [
    "predictions = lm.predict(X_test)"
   ]
  },
  {
   "cell_type": "code",
   "execution_count": null,
   "metadata": {
    "_uuid": "6ecdceb53d79050805e6aeb05fe2c11c7e62c327"
   },
   "outputs": [],
   "source": [
    "plt.scatter(y_test, predictions)\n",
    "plt.xlabel(\"True Values\")\n",
    "plt.ylabel(\"Predictions\")"
   ]
  },
  {
   "cell_type": "code",
   "execution_count": null,
   "metadata": {
    "_uuid": "df32481f9fc1555acc57525994c8f1a08c4d8384"
   },
   "outputs": [],
   "source": [
    "from sklearn.metrics import mean_squared_error\n",
    "from sklearn.metrics import r2_score\n",
    "RMSE_1 = np.sqrt(mean_squared_error(y_test, predictions))\n",
    "print(\"The Root Mean Squared Error  \",RMSE_1)\n",
    "\n",
    "print(\"The R2 value  \",r2_score(y_test,predictions))"
   ]
  },
  {
   "cell_type": "markdown",
   "metadata": {
    "_uuid": "bbd913c1fd63757b7b46935a29731f2405948d88"
   },
   "source": [
    "# Applying Cross Validation "
   ]
  },
  {
   "cell_type": "code",
   "execution_count": null,
   "metadata": {
    "_uuid": "88a5549e052a70eed4dee569e5bbdaaa9e0565c9"
   },
   "outputs": [],
   "source": [
    "from sklearn.cross_validation import cross_val_score, cross_val_predict\n",
    "from sklearn import metrics"
   ]
  },
  {
   "cell_type": "code",
   "execution_count": null,
   "metadata": {
    "_uuid": "0e064e6791d44af0cb1c30ad0984b516d653e5b7"
   },
   "outputs": [],
   "source": [
    "from sklearn import datasets, linear_model"
   ]
  },
  {
   "cell_type": "code",
   "execution_count": null,
   "metadata": {
    "_uuid": "153d9cbcebbe7b3064fcc32875cd6f9d870b5bb0"
   },
   "outputs": [],
   "source": [
    "\n",
    "lm = linear_model.LinearRegression()\n",
    "model = lm.fit(X_train, y_train)\n",
    "\n",
    "scores = cross_val_score(model, X_test, y_test, cv=6)\n",
    "\n",
    "print(\"Cross-validated scores:\", scores)"
   ]
  },
  {
   "cell_type": "code",
   "execution_count": null,
   "metadata": {
    "_uuid": "8fa95c4af947c424833364ee1e2ca52194b6baf6"
   },
   "outputs": [],
   "source": [
    "predictions = cross_val_predict(model, X_test, y_test, cv=6)\n",
    "\n",
    "plt.scatter(y_test, predictions)\n",
    "plt.xlabel(\"True Values\")\n",
    "plt.ylabel(\"Predictions\")"
   ]
  },
  {
   "cell_type": "code",
   "execution_count": null,
   "metadata": {
    "_uuid": "03bf2acd20531763c076c79fddc423b1171830b6"
   },
   "outputs": [],
   "source": [
    "from sklearn.metrics import mean_squared_error\n",
    "from sklearn.metrics import r2_score\n",
    "RMSE_1 = np.sqrt(mean_squared_error(y_test, predictions))\n",
    "print(\"The Root Mean Squared Error  \",RMSE_1)\n",
    "\n",
    "print(\"The R2 value  \",r2_score(y_test,predictions))"
   ]
  },
  {
   "cell_type": "markdown",
   "metadata": {
    "_uuid": "d8965dff1b964ac200b01e5866b6d55a417a9245"
   },
   "source": [
    "# Checking assumptions of linear regression"
   ]
  },
  {
   "cell_type": "code",
   "execution_count": null,
   "metadata": {
    "_uuid": "870eea917aa399e9f9115ee017b9f2297d3cd292"
   },
   "outputs": [],
   "source": [
    "'''\n",
    "Goal: \n",
    "This analysis is focused on checking the assumptions of a regression model by looking at its residuals.\n",
    "\n",
    "Residual vs. Fitted: \n",
    "Assumption of linearity. Since the line does not remain horizontally straight at y=0, assumption is broken. \n",
    "Furthermore, it is clear that there are isolated points, especially the point on the right. \n",
    "Perhaps the relationship is non-linear.\n",
    "\n",
    "Normal Q-Q: \n",
    "Assumption of normality. The runoff tails on either end of the plot suggest that the residuals are not normally distributed. This is another limitation of the model.\n",
    "\n",
    "Scale-Location: \n",
    "There appears to be high residual outliers, breaking the assumption of constant variance. \n",
    "There is an imbalance of points across the x-axis, where there is a higher occurrence of fitted values under the fitted value \n",
    "of 0.9. This plot also observes the existence of \"heteroskedasticity\", which means there is an increasing or decreasing standardized residuals, suggesting that the model is having a problem across magnitudes of data.\n",
    "\n",
    "The \"Residuals vs Fitted\" and \"Scale-Location\" charts are essentially the same, and show if there is a trend to the residuals. \n",
    "OLS models require that the residuals be \"identically and independently distributed,\" that their distribution does not change substantially for different values of x. \n",
    "\n",
    "Residuals vs Leverage: \n",
    "Cook's distance is a plot to spot outliers in the data. The value with index 2 is flirting with the first dotted red line. If values exceed the farthest dotted red line, it is a problematic piece of data, since it wields high leverage (power) over the model.\n",
    "\n",
    "Reflection on Outliers and Robustness: As mentioned earlier, this models suffers a problem of low data count. But these residuals also suggests that this model is not appropriate for this relationship, since it is shown to break the assumptions of the model.\n",
    "'''"
   ]
  },
  {
   "cell_type": "code",
   "execution_count": null,
   "metadata": {
    "_uuid": "b2927917ca8e5683595039494cf25b828f7e90c2"
   },
   "outputs": [],
   "source": [
    "residual = y_test - predictions"
   ]
  },
  {
   "cell_type": "code",
   "execution_count": null,
   "metadata": {
    "_uuid": "726f22179f271ddad71a3444f21ffa268abb6570"
   },
   "outputs": [],
   "source": [
    "# Checking QQ plot for Normal Distribution of error terms\n",
    "\n",
    "import scipy as sp\n",
    "fig, ax = plt.subplots(figsize=(6,2.5))\n",
    "_, (__, ___, r) = sp.stats.probplot(residual, plot=ax, fit=True)\n",
    "r**2\n"
   ]
  },
  {
   "cell_type": "code",
   "execution_count": null,
   "metadata": {
    "_uuid": "ddbab8dccf21e18ced6293097ad17a69dda516a6"
   },
   "outputs": [],
   "source": [
    "# Check for homoscadicity\n",
    "\n",
    "'''\n",
    "If heteroskedasticity exists, the plot would exhibit a funnel shape pattern (shown in next section). \n",
    "Also, you can use Breusch-Pagan / Cook – Weisberg test or White general test to detect this phenomenon.\n",
    "'''\n",
    "for i in X_test:\n",
    "    plt.figure(figsize=(16,7))\n",
    "    sns.residplot(X_test[i], residual, lowess=True, color=\"g\")\n",
    "    ax.set_title('Residuals vs Fitted')\n",
    "    ax.set_xlabel('Fitted values')\n",
    "    ax.set_ylabel('Residuals')\n",
    "    plt.show()"
   ]
  },
  {
   "cell_type": "code",
   "execution_count": null,
   "metadata": {
    "_uuid": "dfa38f7cefbf7cf842501b94bb9382f219ec71ca"
   },
   "outputs": [],
   "source": [
    "# Linearity and equal variance\n",
    "# Both can be tested by plotting residuals vs. predictions, where residuals are prediction errors.\n",
    "plt.figure(figsize=(16,7))\n",
    "sns.residplot(predictions, residual, lowess=True, color=\"g\")\n",
    "ax.set_title('Residuals vs Fitted')\n",
    "ax.set_xlabel('Fitted values')\n",
    "ax.set_ylabel('Residuals')\n",
    "plt.show()"
   ]
  },
  {
   "cell_type": "code",
   "execution_count": null,
   "metadata": {
    "_uuid": "f4ab53a1b56b5b70ac921d2e2d8dc8b47baed9b8"
   },
   "outputs": [],
   "source": [
    "#Cook's distance plot\n",
    "\n"
   ]
  },
  {
   "cell_type": "markdown",
   "metadata": {
    "_uuid": "5a6fc9616cd088ef6f5b8c2dade5fe94ee30352e"
   },
   "source": [
    "# Random Forest"
   ]
  },
  {
   "cell_type": "code",
   "execution_count": null,
   "metadata": {
    "_uuid": "f2f8513a1d0287bc704b4ed94dd86ecb172aea13"
   },
   "outputs": [],
   "source": [
    "from sklearn.ensemble import RandomForestRegressor\n",
    "# Instantiate model with 1000 decision trees\n",
    "rf = RandomForestRegressor(n_estimators = 25)\n",
    "# Train the model on training data\n",
    "pred = rf.fit(X_train,y_train).predict(X_test)\n",
    "\n",
    "\n",
    "RMSE_1 = np.sqrt(mean_squared_error(y_test, pred))\n",
    "\n",
    "print(\"The Root Mean Squared Error of Random Forest Regression is \",RMSE_1)\n",
    "\n",
    "print(\"The R2 value of Random Forest Regression is \",r2_score(y_test,pred))"
   ]
  },
  {
   "cell_type": "markdown",
   "metadata": {
    "_uuid": "85ed81483eb26c8abfbb1225410c082e733d10b4"
   },
   "source": [
    "# Gradient boosting"
   ]
  },
  {
   "cell_type": "code",
   "execution_count": null,
   "metadata": {
    "_uuid": "92631b937aa300625fdc92d3ecb3dceac67df278"
   },
   "outputs": [],
   "source": [
    "from sklearn.ensemble import GradientBoostingRegressor\n",
    "\n",
    "pred = GradientBoostingRegressor(n_estimators=100, learning_rate=0.3,max_depth=1, random_state=0, loss='ls').fit(X_train,y_train).predict(X_test)\n",
    "\n",
    "RMSE_1 = np.sqrt(mean_squared_error(y_test, pred))\n",
    "\n",
    "print(\"The Root Mean Squared Error of Gradient Boosting Regression is \",RMSE_1)\n",
    "\n",
    "print(\"The R2 value of Gradient Boosting Regression is \",r2_score(y_test,pred))"
   ]
  },
  {
   "cell_type": "markdown",
   "metadata": {
    "_uuid": "ba54f4940a7be8f9369d721f38cb1b31a8fe39c1"
   },
   "source": [
    "# Applying forward/backward Linear Regression and learning important features"
   ]
  },
  {
   "cell_type": "code",
   "execution_count": null,
   "metadata": {
    "_uuid": "c93306b7d96f5f17c159e9c097e148b792866a7a"
   },
   "outputs": [],
   "source": [
    "# 1 Manually selecting and deselecting variables"
   ]
  },
  {
   "cell_type": "code",
   "execution_count": null,
   "metadata": {
    "_uuid": "302b838a2fdaad129a14cb56ce31fac93ae1d286"
   },
   "outputs": [],
   "source": [
    "import statsmodels.api as sm\n",
    "import statsmodels.formula.api as smf\n",
    "import sklearn.model_selection\n",
    "import statsmodels.tools\n",
    "from sklearn.metrics import mean_squared_error, r2_score\n",
    "from statsmodels.stats.outliers_influence import variance_inflation_factor\n",
    "from scipy.stats import shapiro"
   ]
  },
  {
   "cell_type": "code",
   "execution_count": null,
   "metadata": {
    "_uuid": "bb7c38f52a0e5b7509e22f64c099bb3da3ab55d2"
   },
   "outputs": [],
   "source": [
    "# Check the VIF for each variable.\n",
    "# Check for multicollinearity\n",
    "\n",
    "#vif less than 10 are acceptable hence \n",
    "\n",
    "#VIF = 1 (Not correlated)\n",
    "#1 < VIF < 10 (Moderately correlated)\n",
    "#VIF >=10 (Highly correlated)\n",
    "\n",
    "variables = model.model.exog\n",
    "\n",
    "vif = [variance_inflation_factor(variables, i) for i in range(variables.shape[1])]\n",
    "#vif \n",
    "\n",
    "\n",
    "\n",
    "# Print Vif\n",
    "counter = 1\n",
    "for i in vif:\n",
    "    print(\"VIF value for Variable\",counter,\":\",i)\n",
    "    counter += 1\n",
    "del counter\n",
    "print(\"---------------------------------------\")\n",
    "print(\"Mean VIF for all variables:\",np.array(vif).mean())"
   ]
  },
  {
   "cell_type": "code",
   "execution_count": null,
   "metadata": {
    "_uuid": "2182701784179370e3db22ad6566988de24177e7"
   },
   "outputs": [],
   "source": [
    "lst = []"
   ]
  },
  {
   "cell_type": "code",
   "execution_count": null,
   "metadata": {
    "_uuid": "f98d4391dcb5e5c9d8011df306b89f3f5ebff644"
   },
   "outputs": [],
   "source": [
    "#This variables are selected based on vif and p values\n",
    "\n",
    "\n",
    "lst = ['HF_BATHRM', 'PRICE', 'QUALIFIED', 'SALE_NUM', 'GRADE', 'EXTWALL', 'ROOF', 'INTWALL',\n",
    "     'FIREPLACES', 'LANDAREA', 'ASSESSMENT_NBHD','CENSUS_TRACT', 'QUADRANT']"
   ]
  },
  {
   "cell_type": "code",
   "execution_count": null,
   "metadata": {
    "_uuid": "04a0ae659784398ed6ae44e42e12a5bc9c519d1a"
   },
   "outputs": [],
   "source": [
    "train_test_data_selected_variables = housing_data_copy_price_notnull[lst]"
   ]
  },
  {
   "cell_type": "code",
   "execution_count": null,
   "metadata": {
    "_uuid": "34a1cbacc659f34397e61d080d651db0818985b3"
   },
   "outputs": [],
   "source": [
    "y2 =train_test_data_selected_variables.PRICE.copy()\n",
    "x2 = train_test_data_selected_variables.drop(labels = \"PRICE\", axis = 1).copy()\n",
    "\n",
    "X_train2, X_test2, y_train2, y_test2 = train_test_split(x2, y2, train_size = .7, random_state = 99)"
   ]
  },
  {
   "cell_type": "code",
   "execution_count": null,
   "metadata": {
    "_uuid": "102175d9b5404fc13933db8f5fd39f483d13a2c8"
   },
   "outputs": [],
   "source": [
    "model = sm.OLS(y_train2,X_train2).fit()\n",
    "model.summary()"
   ]
  },
  {
   "cell_type": "code",
   "execution_count": null,
   "metadata": {
    "_uuid": "a0b83d218e547694ff29a671cf5ceea38a918e9e"
   },
   "outputs": [],
   "source": [
    "# Auto selection of variables\n",
    "\n",
    "\n",
    "import statsmodels.formula.api as smf\n",
    "\n",
    "def forward_selected(data, response):\n",
    "    \"\"\"Linear model designed by forward selection.\n",
    "\n",
    "    Parameters:\n",
    "    -----------\n",
    "    data : pandas DataFrame with all possible predictors and response\n",
    "\n",
    "    response: string, name of response column in data\n",
    "\n",
    "    Returns:\n",
    "    --------\n",
    "    model: an \"optimal\" fitted statsmodels linear model\n",
    "           with an intercept\n",
    "           selected by forward selection\n",
    "           evaluated by adjusted R-squared\n",
    "    \"\"\"\n",
    "    remaining = set(data.columns)\n",
    "    remaining.remove(response)\n",
    "    selected = []\n",
    "    current_score, best_new_score = 0.0, 0.0\n",
    "    while remaining and current_score == best_new_score:\n",
    "        scores_with_candidates = []\n",
    "        for candidate in remaining:\n",
    "            formula = \"{} ~ {} + 1\".format(response,\n",
    "                                           ' + '.join(selected + [candidate]))\n",
    "            score = smf.ols(formula, data).fit().rsquared_adj\n",
    "            scores_with_candidates.append((score, candidate))\n",
    "        scores_with_candidates.sort()\n",
    "        best_new_score, best_candidate = scores_with_candidates.pop()\n",
    "        if current_score < best_new_score:\n",
    "            remaining.remove(best_candidate)\n",
    "            selected.append(best_candidate)\n",
    "            current_score = best_new_score\n",
    "    formula = \"{} ~ {} + 1\".format(response,\n",
    "                                   ' + '.join(selected))\n",
    "    model = smf.ols(formula, data).fit()\n",
    "    return model"
   ]
  },
  {
   "cell_type": "code",
   "execution_count": null,
   "metadata": {
    "_uuid": "6d7fbf0ade543b403f9124af2ceae78492e600da"
   },
   "outputs": [],
   "source": [
    "model = forward_selected(train_test_data_selected_variables,\"PRICE\")\n"
   ]
  },
  {
   "cell_type": "code",
   "execution_count": null,
   "metadata": {
    "_uuid": "485d59cb5e324bd6c99710ac5b4f004fa2dff12d"
   },
   "outputs": [],
   "source": [
    "model.summary()\n",
    "\n",
    "# Linear model results in poor prediction"
   ]
  },
  {
   "cell_type": "markdown",
   "metadata": {
    "_uuid": "6c2d05d41e54c0120c4f7c2e9aa23c6f5aaf6cd1"
   },
   "source": [
    "# KNN"
   ]
  },
  {
   "cell_type": "code",
   "execution_count": null,
   "metadata": {
    "_uuid": "86927cdbf385d04e2c1f3d057c40a1b8b66b492e"
   },
   "outputs": [],
   "source": [
    "from sklearn import neighbors\n",
    "\n",
    "\n",
    "knn = neighbors.KNeighborsRegressor(5)\n",
    "\n",
    "pred_test = knn.fit(X_train,y_train).predict(X_test)\n",
    "\n",
    "RMSE = np.sqrt(mean_squared_error(y_test, pred_test))\n",
    "\n",
    "print(\"The Root Mean Squared Error of KNN Regression is \",RMSE)\n",
    "\n",
    "print(\"The R2 value of KNN Regression is \",r2_score(y_test,pred_test))"
   ]
  },
  {
   "cell_type": "markdown",
   "metadata": {
    "_uuid": "f6d8fada1ae7a0c751ce29db997747f2df593155"
   },
   "source": [
    "# Lasso"
   ]
  },
  {
   "cell_type": "code",
   "execution_count": null,
   "metadata": {
    "_uuid": "1faf29c752eb82132367610f3162867aa74bb82b"
   },
   "outputs": [],
   "source": [
    "alphas = np.array([1,0.1,0.01,0.001,0.0001,0])\n",
    "\n",
    "model = Lasso()\n",
    "\n",
    "grid = GridSearchCV(estimator=model, param_grid=dict(alpha=alphas))\n",
    "\n",
    "grid.fit(X_train, y_train)\n",
    "\n",
    "print(grid)"
   ]
  },
  {
   "cell_type": "code",
   "execution_count": null,
   "metadata": {
    "_uuid": "820122054db0e1175b1470e0785f0b092ca2a538"
   },
   "outputs": [],
   "source": [
    "print(\"Best Grid Score:\",grid.best_score_)\n",
    "print(\"Best Grid Alpha parameter:\",grid.best_estimator_.alpha)"
   ]
  },
  {
   "cell_type": "code",
   "execution_count": null,
   "metadata": {
    "_uuid": "aa67a9d8de7e29326d02ca2c0f2241f7f89ce523"
   },
   "outputs": [],
   "source": [
    "Y = grid.predict(X_test)\n",
    "\n",
    "print(\"mean squared error for lasso with grid parameter tuning is\",mean_squared_error(Y, y_test))\n",
    "\n",
    "print(\"R square for lasso with grid parameter tuning is : \",r2_score(y_test, Y, sample_weight=None))"
   ]
  },
  {
   "cell_type": "code",
   "execution_count": null,
   "metadata": {
    "_uuid": "39f91026713fefec235f6c7ed3a01061090e1251"
   },
   "outputs": [],
   "source": [
    "#Random Search Parameter Tuning\n",
    "\n",
    "# prepare a uniform distribution to sample for the alpha parameter\n",
    "\n",
    "param_grid = {'alpha': sp_rand()}\n",
    "\n",
    "model = Lasso()\n",
    "rsearch = RandomizedSearchCV(estimator=model, param_distributions=param_grid, n_iter=100)\n",
    "rsearch.fit(X_train, y_train)\n",
    "print(rsearch)"
   ]
  },
  {
   "cell_type": "code",
   "execution_count": null,
   "metadata": {
    "_uuid": "e46fa36148c911918898ccd79fd3131add1b2998"
   },
   "outputs": [],
   "source": [
    "#Optimum alpha from random search\n",
    "\n",
    "print(\"The Optimum Aplha values\",rsearch.best_params_)"
   ]
  },
  {
   "cell_type": "code",
   "execution_count": null,
   "metadata": {
    "_uuid": "f5b573aa86b6d305e170eda6e6eefd7efda190f9"
   },
   "outputs": [],
   "source": [
    "# summarize the results of the random parameter search\n",
    "\n",
    "print(\"Best Score:\",rsearch.best_score_)\n",
    "print(\"Best Aplha Value:\",rsearch.best_estimator_.alpha)"
   ]
  },
  {
   "cell_type": "code",
   "execution_count": null,
   "metadata": {
    "_uuid": "3e54cc4e10200d14a714e931f3af01e556f21647"
   },
   "outputs": [],
   "source": [
    "Y = grid.predict(X_test)\n",
    "from sklearn.metrics import mean_squared_error\n",
    "print(\"mean squared error for lasso with random parameter tuning is\",mean_squared_error(Y, y_test))\n",
    "import sklearn\n",
    "print(\"R square for lasso with random parameter tuning is : \",sklearn.metrics.r2_score(y_test, Y, sample_weight=None))"
   ]
  },
  {
   "cell_type": "code",
   "execution_count": null,
   "metadata": {
    "_uuid": "28a9ba3467ed07b6e2199cbb20cbbadfeb2dcba6"
   },
   "outputs": [],
   "source": [
    "print(\"Mean Squeared Eroor for best prediction:\",mean_squared_error(y_test,Y))\n",
    "print(\"Mean Absolute Error for best prediction:\",mean_absolute_error(y_test,Y))\n",
    "print(\"Median Squared Error for best prediction:\",median_absolute_error(y_test,Y))\n",
    "print(\"R2 score for best prediction:\",r2_score(y_test,Y))"
   ]
  },
  {
   "cell_type": "markdown",
   "metadata": {
    "_uuid": "c26d3726cd58ea42dccea05131b851792086904c"
   },
   "source": [
    "# Model Comparison"
   ]
  },
  {
   "cell_type": "code",
   "execution_count": null,
   "metadata": {
    "_uuid": "1ed3368e81a5c82d9c71ba90682b9d089ab1239b"
   },
   "outputs": [],
   "source": [
    "X_train = X_train.astype(int)\n",
    "y_train = y_train.astype(int)"
   ]
  },
  {
   "cell_type": "code",
   "execution_count": null,
   "metadata": {
    "_uuid": "b1582d4e99cd2404d71ab5369e341ce05426b8d6"
   },
   "outputs": [],
   "source": [
    "#Different model comparison with X_train and y_train\n",
    "\n",
    "import pandas\n",
    "import matplotlib.pyplot as plt\n",
    "from sklearn import model_selection\n",
    "from sklearn.linear_model import LinearRegression  \n",
    "from sklearn.linear_model import Ridge\n",
    "from sklearn.linear_model import Lasso\n",
    "from sklearn.tree import DecisionTreeClassifier\n",
    "from sklearn.ensemble import RandomForestRegressor\n",
    "from sklearn.neighbors import KNeighborsClassifier\n",
    "\n",
    "from sklearn.ensemble import GradientBoostingRegressor\n",
    "# prepare models\n",
    "models = []\n",
    "models.append(('lr', LinearRegression()))\n",
    "models.append(('ridge', Ridge()))\n",
    "models.append(('lasso', Lasso()))\n",
    "models.append(('KNN',KNeighborsClassifier()))\n",
    "models.append(('decisiontree', DecisionTreeClassifier()))\n",
    "models.append(('randomforest', RandomForestRegressor()))\n",
    "models.append(('gradientboosting', GradientBoostingRegressor()))\n",
    "\n",
    "# evaluate each model in turn\n",
    "results = []\n",
    "names = []\n",
    "scoring = 'accuracy'\n",
    "for name, model in models:\n",
    "    cv_results = model_selection.cross_val_score(model, X_train, y_train)\n",
    "    results.append(cv_results)\n",
    "    names.append(name)\n",
    "    msg = \"%s: %f (%f)\" % (name, cv_results.mean(), cv_results.std())\n",
    "    print(msg)\n",
    "# boxplot algorithm comparison\n",
    "fig = plt.figure(figsize=(10,10))\n",
    "fig.suptitle('Algorithm Comparison')\n",
    "ax = fig.add_subplot(111)\n",
    "plt.boxplot(results)\n",
    "ax.set_xticklabels(names)\n",
    "plt.show()"
   ]
  },
  {
   "cell_type": "code",
   "execution_count": null,
   "metadata": {
    "_uuid": "ef4f8019c577200adff2686ae4529043db352f8d"
   },
   "outputs": [],
   "source": []
  }
 ],
 "metadata": {
  "kernelspec": {
   "display_name": "Python 3",
   "language": "python",
   "name": "python3"
  },
  "language_info": {
   "codemirror_mode": {
    "name": "ipython",
    "version": 3
   },
   "file_extension": ".py",
   "mimetype": "text/x-python",
   "name": "python",
   "nbconvert_exporter": "python",
   "pygments_lexer": "ipython3",
   "version": "3.6.5"
  }
 },
 "nbformat": 4,
 "nbformat_minor": 1
}
